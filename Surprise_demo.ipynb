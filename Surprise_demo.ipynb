{
 "cells": [
  {
   "cell_type": "markdown",
   "metadata": {
    "colab_type": "text",
    "id": "TMlKEFYBAso8"
   },
   "source": [
    "### 256-SURPRISE LIBRARY DEMO"
   ]
  },
  {
   "cell_type": "markdown",
   "metadata": {
    "colab_type": "text",
    "id": "mtTdeixOAz_h"
   },
   "source": [
    "### Importing libraries"
   ]
  },
  {
   "cell_type": "code",
   "execution_count": 2,
   "metadata": {
    "colab": {
     "base_uri": "https://localhost:8080/",
     "height": 126
    },
    "colab_type": "code",
    "id": "pYio5E51-E81",
    "outputId": "a5403558-06ac-4199-aa2b-77ba2cbc417b"
   },
   "outputs": [],
   "source": [
    "#Credits-Prof Eirinaki, Rashmi Sharma and Aditya Patel\n",
    "#conda install -c conda-forge scikit-surprise\n",
    "#!pip install scikit-surprise\n",
    "from surprise import BaselineOnly\n",
    "from surprise import Dataset\n",
    "from surprise import Reader\n",
    "from surprise.model_selection.split import train_test_split\n",
    "from surprise.model_selection import cross_validate, GridSearchCV\n",
    "import pandas as pd\n",
    "import numpy as np\n",
    "import os, io\n",
    "from surprise import KNNBasic, KNNWithMeans\n",
    "from surprise import SVDpp\n",
    "from surprise import SVD\n",
    "from surprise import accuracy"
   ]
  },
  {
   "cell_type": "code",
   "execution_count": 4,
   "metadata": {},
   "outputs": [],
   "source": [
    "ratings_df  = pd.read_csv('movie_night_ratings.csv')# read csv into ratings_df dataframe\n",
    "#ratings_df.head()"
   ]
  },
  {
   "cell_type": "markdown",
   "metadata": {
    "colab_type": "text",
    "id": "k6Rjba5fA62d"
   },
   "source": [
    "### Reading a file"
   ]
  },
  {
   "cell_type": "code",
   "execution_count": 5,
   "metadata": {
    "colab": {},
    "colab_type": "code",
    "id": "_55k4dS-42eR"
   },
   "outputs": [],
   "source": [
    "reader = Reader(rating_scale=(1,5))  #invoke reader instance of surprise library\n",
    "data=Dataset.load_from_df(ratings_df,reader) #load dataset into Surprise datastructure Dataset"
   ]
  },
  {
   "cell_type": "markdown",
   "metadata": {
    "colab_type": "text",
    "id": "ITK_vkNSBChF"
   },
   "source": [
    "### Understanding the recommendations' generation problem\n",
    "Basic recommender system design revolves around three fields user id,item id and ratings. \n",
    "\n",
    "The dataset consists of all three columns and they could be visualised as matrix containing userid as rows,item id as columns and ratings as data given by user for that item. As seen in class, major techniques to predict ratings of the user for an item are collaborative filtering and matrix factorization. We will work through the collaborative filtering  technique using Python's surprise library (https://surprise.readthedocs.io/en/stable/index.html) which provides a lot of built in function tailored to build recommender system. "
   ]
  },
  {
   "cell_type": "code",
   "execution_count": 6,
   "metadata": {
    "colab": {
     "base_uri": "https://localhost:8080/",
     "height": 198
    },
    "colab_type": "code",
    "id": "_T1-gPpgbNHg",
    "outputId": "02bf9b68-27a0-43c7-e3ce-65150cacf8a9"
   },
   "outputs": [
    {
     "data": {
      "text/html": [
       "<div>\n",
       "<style scoped>\n",
       "    .dataframe tbody tr th:only-of-type {\n",
       "        vertical-align: middle;\n",
       "    }\n",
       "\n",
       "    .dataframe tbody tr th {\n",
       "        vertical-align: top;\n",
       "    }\n",
       "\n",
       "    .dataframe thead th {\n",
       "        text-align: right;\n",
       "    }\n",
       "</style>\n",
       "<table border=\"1\" class=\"dataframe\">\n",
       "  <thead>\n",
       "    <tr style=\"text-align: right;\">\n",
       "      <th></th>\n",
       "      <th>user</th>\n",
       "      <th>movie</th>\n",
       "      <th>rating</th>\n",
       "    </tr>\n",
       "  </thead>\n",
       "  <tbody>\n",
       "    <tr>\n",
       "      <td>0</td>\n",
       "      <td>1</td>\n",
       "      <td>1</td>\n",
       "      <td>4.0</td>\n",
       "    </tr>\n",
       "    <tr>\n",
       "      <td>1</td>\n",
       "      <td>1</td>\n",
       "      <td>2</td>\n",
       "      <td>5.0</td>\n",
       "    </tr>\n",
       "    <tr>\n",
       "      <td>2</td>\n",
       "      <td>1</td>\n",
       "      <td>3</td>\n",
       "      <td>4.0</td>\n",
       "    </tr>\n",
       "    <tr>\n",
       "      <td>3</td>\n",
       "      <td>1</td>\n",
       "      <td>5</td>\n",
       "      <td>4.0</td>\n",
       "    </tr>\n",
       "    <tr>\n",
       "      <td>4</td>\n",
       "      <td>1</td>\n",
       "      <td>6</td>\n",
       "      <td>4.0</td>\n",
       "    </tr>\n",
       "  </tbody>\n",
       "</table>\n",
       "</div>"
      ],
      "text/plain": [
       "   user  movie  rating\n",
       "0     1      1     4.0\n",
       "1     1      2     5.0\n",
       "2     1      3     4.0\n",
       "3     1      5     4.0\n",
       "4     1      6     4.0"
      ]
     },
     "execution_count": 6,
     "metadata": {},
     "output_type": "execute_result"
    }
   ],
   "source": [
    "ratings_df.head(5)"
   ]
  },
  {
   "cell_type": "markdown",
   "metadata": {
    "colab_type": "text",
    "id": "jjU8e6b_gKg9"
   },
   "source": [
    "\n",
    "### Training the model \n",
    "\n",
    "There are several ways to train a recommender system using the surprise library.\n",
    "\n",
    "The first way is to set similarity measures and employ one of the collaborative filtering algorithms (i.e. the \"original\" algorithms and their variations). \n",
    "There is also an option of using baseline estimates (i.e.minimizing error using some optimization).\n",
    "\n",
    "We follow the first approach here.\n",
    "\n",
    "#### Neighborhood-based Collaborative Filtering"
   ]
  },
  {
   "cell_type": "markdown",
   "metadata": {
    "colab_type": "text",
    "id": "PJ_fga4geu9m"
   },
   "source": [
    "Before training the model, we need to create a training set. This needs to be distinct from any set used for cross-validation or testing/evaluation. \n",
    "\n",
    "There are several ways to perform hyperparameter tuning and/or evaluation. \n",
    "\n",
    "Surprise library provides several cross-validation iterators that allow to do the split from user-item matrix as below. (Ref: https://surprise.readthedocs.io/en/stable/getting_started.html#use-cross-validation-iterators)\n",
    "\n",
    "##### Option 1: Holdout set"
   ]
  },
  {
   "cell_type": "code",
   "execution_count": 7,
   "metadata": {
    "colab": {},
    "colab_type": "code",
    "id": "Frol6tIcAVpN",
    "scrolled": true
   },
   "outputs": [],
   "source": [
    "#create training set\n",
    "trainingSet, testSet = train_test_split(data, test_size=0.2, train_size=None, random_state=None, shuffle=True)"
   ]
  },
  {
   "cell_type": "markdown",
   "metadata": {
    "colab_type": "text",
    "id": "6L285F7ehcb-"
   },
   "source": [
    "#### Training \n",
    "\n",
    "Surprise provides inbuilt algorithms like KNN (neighborhood-based CF), SVD (latent factor CF), CoClustering etc.\n",
    "\n",
    "You can check them all here https://surprise.readthedocs.io/en/stable/prediction_algorithms_package.html"
   ]
  },
  {
   "cell_type": "code",
   "execution_count": 8,
   "metadata": {
    "colab": {},
    "colab_type": "code",
    "id": "ge9eTEMuHgpk"
   },
   "outputs": [],
   "source": [
    "#lets configure some parameters for Collaborative Filtering Algorithm\n",
    "sim_options = {\n",
    "    'name': 'pearson', #similarity measure default is MSD\n",
    "    'user_based': True #user-based CF\n",
    "}\n",
    "#Other options:\n",
    "#For item-based CF ->False\n",
    "#For name ->pearson,cosine,msd,pearson_baseline\n"
   ]
  },
  {
   "cell_type": "code",
   "execution_count": 9,
   "metadata": {
    "colab": {
     "base_uri": "https://localhost:8080/",
     "height": 54
    },
    "colab_type": "code",
    "id": "7McNpEyJIWiV",
    "outputId": "aa0616e1-db67-4ab3-abe4-ac83646045af"
   },
   "outputs": [
    {
     "name": "stdout",
     "output_type": "stream",
     "text": [
      "Computing the pearson similarity matrix...\n",
      "Done computing similarity matrix.\n"
     ]
    }
   ],
   "source": [
    "#KNN\n",
    "knn = KNNBasic(sim_options=sim_options,k=3,min_k=1) #neighbours=3, other parameters set as above\n",
    "knn.fit(trainingSet) #fit model to the training set\n",
    "predictions_knn = knn.test(testSet) #predict for test set values"
   ]
  },
  {
   "cell_type": "markdown",
   "metadata": {
    "colab_type": "text",
    "id": "xHzqrwmwh-0K"
   },
   "source": [
    "##### Testing\n",
    "\n",
    "We will check the algorithm's accuracy or using the RMSE score of the predicted ratings."
   ]
  },
  {
   "cell_type": "code",
   "execution_count": 10,
   "metadata": {
    "colab": {
     "base_uri": "https://localhost:8080/",
     "height": 54
    },
    "colab_type": "code",
    "id": "gwwD5GjPJXGC",
    "outputId": "03ee4bbd-f5f8-4a9c-d3c2-4df8048c6198"
   },
   "outputs": [
    {
     "name": "stdout",
     "output_type": "stream",
     "text": [
      "RMSE: 1.1309\n"
     ]
    },
    {
     "data": {
      "text/plain": [
       "1.1309185685925158"
      ]
     },
     "execution_count": 10,
     "metadata": {},
     "output_type": "execute_result"
    }
   ],
   "source": [
    "#validating rating predictions using RMSE\n",
    "accuracy.rmse(predictions_knn, verbose=True) "
   ]
  },
  {
   "cell_type": "code",
   "execution_count": 11,
   "metadata": {
    "colab": {
     "base_uri": "https://localhost:8080/",
     "height": 35
    },
    "colab_type": "code",
    "id": "MHbIa92ebDZ8",
    "outputId": "4140f4da-5d32-40c0-c266-e9f11874687e"
   },
   "outputs": [
    {
     "data": {
      "text/plain": [
       "[Prediction(uid=83, iid=15, r_ui=1.0, est=2.3169093665564735, details={'actual_k': 3, 'was_impossible': False}),\n",
       " Prediction(uid=5, iid=7, r_ui=3.0, est=3.3333333333333335, details={'actual_k': 3, 'was_impossible': False}),\n",
       " Prediction(uid=38, iid=10, r_ui=5.0, est=4.045454545454546, details={'actual_k': 3, 'was_impossible': False}),\n",
       " Prediction(uid=156, iid=15, r_ui=5.0, est=3.8793456032719837, details={'was_impossible': True, 'reason': 'User and/or item is unkown.'}),\n",
       " Prediction(uid=143, iid=10, r_ui=2.0, est=4.138714505676302, details={'actual_k': 3, 'was_impossible': False}),\n",
       " Prediction(uid=282, iid=3, r_ui=3.0, est=3.3333333333333335, details={'actual_k': 3, 'was_impossible': False}),\n",
       " Prediction(uid=236, iid=5, r_ui=5.0, est=3.6666666666666665, details={'actual_k': 3, 'was_impossible': False}),\n",
       " Prediction(uid=144, iid=10, r_ui=4.0, est=4.3026861097448945, details={'actual_k': 3, 'was_impossible': False}),\n",
       " Prediction(uid=28, iid=5, r_ui=5.0, est=4.333333333333333, details={'actual_k': 3, 'was_impossible': False}),\n",
       " Prediction(uid=73, iid=12, r_ui=5.0, est=4.0089702409186065, details={'actual_k': 3, 'was_impossible': False}),\n",
       " Prediction(uid=108, iid=7, r_ui=5.0, est=4.333333333333333, details={'actual_k': 3, 'was_impossible': False}),\n",
       " Prediction(uid=138, iid=12, r_ui=3.0, est=4.674745509121971, details={'actual_k': 3, 'was_impossible': False}),\n",
       " Prediction(uid=271, iid=3, r_ui=4.0, est=4.333333333333333, details={'actual_k': 3, 'was_impossible': False}),\n",
       " Prediction(uid=219, iid=6, r_ui=5.0, est=4.333333333333333, details={'actual_k': 3, 'was_impossible': False}),\n",
       " Prediction(uid=62, iid=3, r_ui=5.0, est=3.0, details={'actual_k': 3, 'was_impossible': False}),\n",
       " Prediction(uid=276, iid=1, r_ui=4.0, est=4.0, details={'actual_k': 3, 'was_impossible': False}),\n",
       " Prediction(uid=239, iid=6, r_ui=3.0, est=4.339568814820162, details={'actual_k': 3, 'was_impossible': False}),\n",
       " Prediction(uid=233, iid=12, r_ui=4.0, est=5, details={'actual_k': 3, 'was_impossible': False}),\n",
       " Prediction(uid=96, iid=16, r_ui=3.0, est=4.333333333333333, details={'actual_k': 3, 'was_impossible': False}),\n",
       " Prediction(uid=85, iid=1, r_ui=4.0, est=4.0, details={'actual_k': 3, 'was_impossible': False}),\n",
       " Prediction(uid=139, iid=7, r_ui=5.0, est=3.6666666666666665, details={'actual_k': 3, 'was_impossible': False}),\n",
       " Prediction(uid=228, iid=2, r_ui=4.0, est=3.3333333333333335, details={'actual_k': 3, 'was_impossible': False}),\n",
       " Prediction(uid=37, iid=18, r_ui=4.0, est=3.018537853742955, details={'actual_k': 3, 'was_impossible': False}),\n",
       " Prediction(uid=175, iid=8, r_ui=4.0, est=3.6666666666666665, details={'actual_k': 3, 'was_impossible': False}),\n",
       " Prediction(uid=212, iid=5, r_ui=5.0, est=4.333333333333333, details={'actual_k': 3, 'was_impossible': False}),\n",
       " Prediction(uid=64, iid=13, r_ui=5.0, est=4.333333333333333, details={'actual_k': 3, 'was_impossible': False}),\n",
       " Prediction(uid=97, iid=14, r_ui=3.0, est=4.666666666666667, details={'actual_k': 3, 'was_impossible': False}),\n",
       " Prediction(uid=292, iid=8, r_ui=5.0, est=4.0, details={'actual_k': 3, 'was_impossible': False}),\n",
       " Prediction(uid=222, iid=8, r_ui=3.0, est=3.8793456032719837, details={'was_impossible': True, 'reason': 'User and/or item is unkown.'}),\n",
       " Prediction(uid=278, iid=4, r_ui=4.0, est=4.0, details={'actual_k': 3, 'was_impossible': False}),\n",
       " Prediction(uid=128, iid=3, r_ui=3.0, est=4.0, details={'actual_k': 3, 'was_impossible': False}),\n",
       " Prediction(uid=202, iid=15, r_ui=5.0, est=2.6666666666666665, details={'actual_k': 3, 'was_impossible': False}),\n",
       " Prediction(uid=40, iid=6, r_ui=3.0, est=4.652958166520426, details={'actual_k': 3, 'was_impossible': False}),\n",
       " Prediction(uid=140, iid=2, r_ui=4.0, est=2.6666666666666665, details={'actual_k': 3, 'was_impossible': False}),\n",
       " Prediction(uid=217, iid=3, r_ui=5.0, est=4.0, details={'actual_k': 3, 'was_impossible': False}),\n",
       " Prediction(uid=206, iid=2, r_ui=5.0, est=4.673072423321242, details={'actual_k': 3, 'was_impossible': False}),\n",
       " Prediction(uid=238, iid=20, r_ui=3.0, est=3.705410356100965, details={'actual_k': 3, 'was_impossible': False}),\n",
       " Prediction(uid=53, iid=11, r_ui=4.0, est=4.0, details={'actual_k': 3, 'was_impossible': False}),\n",
       " Prediction(uid=12, iid=5, r_ui=5.0, est=4.0, details={'actual_k': 3, 'was_impossible': False}),\n",
       " Prediction(uid=7, iid=12, r_ui=5.0, est=4.335450912902356, details={'actual_k': 3, 'was_impossible': False}),\n",
       " Prediction(uid=290, iid=10, r_ui=5.0, est=3.5542990463466464, details={'actual_k': 3, 'was_impossible': False}),\n",
       " Prediction(uid=7, iid=8, r_ui=5.0, est=4.0, details={'actual_k': 3, 'was_impossible': False}),\n",
       " Prediction(uid=260, iid=15, r_ui=2.0, est=3.0, details={'actual_k': 3, 'was_impossible': False}),\n",
       " Prediction(uid=144, iid=12, r_ui=3.0, est=3.6498738150868975, details={'actual_k': 3, 'was_impossible': False}),\n",
       " Prediction(uid=276, iid=15, r_ui=4.0, est=3.6666666666666665, details={'actual_k': 3, 'was_impossible': False}),\n",
       " Prediction(uid=6, iid=5, r_ui=3.0, est=4.333333333333333, details={'actual_k': 3, 'was_impossible': False}),\n",
       " Prediction(uid=223, iid=14, r_ui=4.0, est=3.6666666666666665, details={'actual_k': 3, 'was_impossible': False}),\n",
       " Prediction(uid=40, iid=13, r_ui=2.0, est=3.342069735440533, details={'actual_k': 3, 'was_impossible': False}),\n",
       " Prediction(uid=151, iid=3, r_ui=5.0, est=3.0, details={'actual_k': 3, 'was_impossible': False}),\n",
       " Prediction(uid=244, iid=3, r_ui=4.0, est=3.3333333333333335, details={'actual_k': 3, 'was_impossible': False}),\n",
       " Prediction(uid=276, iid=3, r_ui=5.0, est=3.0, details={'actual_k': 3, 'was_impossible': False}),\n",
       " Prediction(uid=111, iid=8, r_ui=2.0, est=4.0, details={'actual_k': 3, 'was_impossible': False}),\n",
       " Prediction(uid=272, iid=11, r_ui=5.0, est=4.333333333333333, details={'actual_k': 3, 'was_impossible': False}),\n",
       " Prediction(uid=65, iid=8, r_ui=3.0, est=4.0, details={'actual_k': 3, 'was_impossible': False}),\n",
       " Prediction(uid=159, iid=12, r_ui=3.0, est=4.6888091363795645, details={'actual_k': 3, 'was_impossible': False}),\n",
       " Prediction(uid=20, iid=7, r_ui=5.0, est=5, details={'actual_k': 3, 'was_impossible': False}),\n",
       " Prediction(uid=259, iid=3, r_ui=4.0, est=4.0, details={'actual_k': 3, 'was_impossible': False}),\n",
       " Prediction(uid=31, iid=6, r_ui=5.0, est=3.3333333333333335, details={'actual_k': 3, 'was_impossible': False}),\n",
       " Prediction(uid=2, iid=8, r_ui=4.0, est=4.666666666666667, details={'actual_k': 3, 'was_impossible': False}),\n",
       " Prediction(uid=277, iid=2, r_ui=5.0, est=4.0, details={'actual_k': 3, 'was_impossible': False}),\n",
       " Prediction(uid=24, iid=5, r_ui=2.0, est=3.3333333333333335, details={'actual_k': 3, 'was_impossible': False}),\n",
       " Prediction(uid=237, iid=16, r_ui=4.0, est=4.333333333333333, details={'actual_k': 3, 'was_impossible': False}),\n",
       " Prediction(uid=1, iid=16, r_ui=5.0, est=4.2787783451642065, details={'actual_k': 3, 'was_impossible': False}),\n",
       " Prediction(uid=280, iid=5, r_ui=4.0, est=4.0, details={'actual_k': 3, 'was_impossible': False}),\n",
       " Prediction(uid=141, iid=7, r_ui=4.0, est=3.3333333333333335, details={'actual_k': 3, 'was_impossible': False}),\n",
       " Prediction(uid=84, iid=16, r_ui=4.0, est=4.666666666666667, details={'actual_k': 3, 'was_impossible': False}),\n",
       " Prediction(uid=149, iid=11, r_ui=4.0, est=4.666666666666667, details={'actual_k': 3, 'was_impossible': False}),\n",
       " Prediction(uid=141, iid=11, r_ui=3.0, est=3.3333333333333335, details={'actual_k': 3, 'was_impossible': False}),\n",
       " Prediction(uid=31, iid=11, r_ui=3.0, est=5, details={'actual_k': 3, 'was_impossible': False}),\n",
       " Prediction(uid=89, iid=3, r_ui=5.0, est=4.666666666666667, details={'actual_k': 3, 'was_impossible': False}),\n",
       " Prediction(uid=53, iid=15, r_ui=3.0, est=3.0, details={'actual_k': 3, 'was_impossible': False}),\n",
       " Prediction(uid=102, iid=2, r_ui=5.0, est=3.6666666666666665, details={'actual_k': 3, 'was_impossible': False}),\n",
       " Prediction(uid=94, iid=12, r_ui=4.0, est=4.666666666666667, details={'actual_k': 3, 'was_impossible': False}),\n",
       " Prediction(uid=189, iid=12, r_ui=5.0, est=3.6666666666666665, details={'actual_k': 3, 'was_impossible': False}),\n",
       " Prediction(uid=229, iid=9, r_ui=4.0, est=4.345565976485215, details={'actual_k': 3, 'was_impossible': False}),\n",
       " Prediction(uid=151, iid=16, r_ui=5.0, est=4.0, details={'actual_k': 3, 'was_impossible': False}),\n",
       " Prediction(uid=77, iid=14, r_ui=4.0, est=4.333333333333333, details={'actual_k': 3, 'was_impossible': False}),\n",
       " Prediction(uid=102, iid=16, r_ui=5.0, est=4.663377868217025, details={'actual_k': 3, 'was_impossible': False}),\n",
       " Prediction(uid=71, iid=14, r_ui=4.0, est=3.665581995793946, details={'actual_k': 3, 'was_impossible': False}),\n",
       " Prediction(uid=203, iid=11, r_ui=2.0, est=2.6768679867530407, details={'actual_k': 3, 'was_impossible': False}),\n",
       " Prediction(uid=3, iid=5, r_ui=5.0, est=4.666666666666667, details={'actual_k': 3, 'was_impossible': False}),\n",
       " Prediction(uid=157, iid=7, r_ui=3.0, est=3.6666666666666665, details={'actual_k': 3, 'was_impossible': False}),\n",
       " Prediction(uid=19, iid=3, r_ui=5.0, est=5, details={'actual_k': 3, 'was_impossible': False}),\n",
       " Prediction(uid=237, iid=1, r_ui=3.0, est=4.0, details={'actual_k': 3, 'was_impossible': False}),\n",
       " Prediction(uid=226, iid=8, r_ui=4.0, est=3.8793456032719837, details={'was_impossible': True, 'reason': 'Not enough neighbors.'}),\n",
       " Prediction(uid=140, iid=11, r_ui=4.0, est=3.0, details={'actual_k': 3, 'was_impossible': False}),\n",
       " Prediction(uid=112, iid=11, r_ui=2.0, est=4.314808814178633, details={'actual_k': 3, 'was_impossible': False}),\n",
       " Prediction(uid=177, iid=3, r_ui=4.0, est=4.333333333333333, details={'actual_k': 3, 'was_impossible': False}),\n",
       " Prediction(uid=258, iid=15, r_ui=1.0, est=3.0, details={'actual_k': 3, 'was_impossible': False}),\n",
       " Prediction(uid=104, iid=8, r_ui=4.0, est=4.6653516961414345, details={'actual_k': 3, 'was_impossible': False}),\n",
       " Prediction(uid=21, iid=5, r_ui=3.0, est=4.333333333333333, details={'actual_k': 3, 'was_impossible': False}),\n",
       " Prediction(uid=229, iid=10, r_ui=3.0, est=4.333333333333333, details={'actual_k': 3, 'was_impossible': False}),\n",
       " Prediction(uid=115, iid=2, r_ui=2.0, est=2.6666666666666665, details={'actual_k': 3, 'was_impossible': False}),\n",
       " Prediction(uid=5, iid=16, r_ui=3.0, est=4.666666666666667, details={'actual_k': 3, 'was_impossible': False}),\n",
       " Prediction(uid=209, iid=9, r_ui=3.0, est=3.0, details={'actual_k': 3, 'was_impossible': False}),\n",
       " Prediction(uid=52, iid=7, r_ui=4.0, est=4.0, details={'actual_k': 3, 'was_impossible': False}),\n",
       " Prediction(uid=112, iid=13, r_ui=5.0, est=3.6656043401545326, details={'actual_k': 3, 'was_impossible': False}),\n",
       " Prediction(uid=132, iid=7, r_ui=5.0, est=5, details={'actual_k': 3, 'was_impossible': False}),\n",
       " Prediction(uid=84, iid=14, r_ui=5.0, est=4.0, details={'actual_k': 3, 'was_impossible': False}),\n",
       " Prediction(uid=66, iid=1, r_ui=4.0, est=3.8793456032719837, details={'was_impossible': True, 'reason': 'Not enough neighbors.'}),\n",
       " Prediction(uid=111, iid=1, r_ui=1.0, est=4.0, details={'actual_k': 3, 'was_impossible': False}),\n",
       " Prediction(uid=269, iid=17, r_ui=2.0, est=3.356096790862358, details={'actual_k': 3, 'was_impossible': False}),\n",
       " Prediction(uid=202, iid=16, r_ui=5.0, est=4.3935396922358825, details={'actual_k': 3, 'was_impossible': False}),\n",
       " Prediction(uid=115, iid=3, r_ui=5.0, est=4.666666666666667, details={'actual_k': 3, 'was_impossible': False}),\n",
       " Prediction(uid=252, iid=5, r_ui=4.0, est=3.6666666666666665, details={'actual_k': 3, 'was_impossible': False}),\n",
       " Prediction(uid=20, iid=1, r_ui=4.0, est=4.0, details={'actual_k': 3, 'was_impossible': False}),\n",
       " Prediction(uid=271, iid=17, r_ui=4.0, est=3.2781673561515876, details={'actual_k': 3, 'was_impossible': False}),\n",
       " Prediction(uid=122, iid=18, r_ui=2.0, est=3.356603909115548, details={'actual_k': 3, 'was_impossible': False}),\n",
       " Prediction(uid=83, iid=8, r_ui=5.0, est=5, details={'actual_k': 3, 'was_impossible': False}),\n",
       " Prediction(uid=41, iid=11, r_ui=5.0, est=3.9663927885937027, details={'actual_k': 3, 'was_impossible': False}),\n",
       " Prediction(uid=43, iid=18, r_ui=5.0, est=3.995993982566197, details={'actual_k': 3, 'was_impossible': False}),\n",
       " Prediction(uid=206, iid=15, r_ui=2.0, est=3.374970531226988, details={'actual_k': 3, 'was_impossible': False}),\n",
       " Prediction(uid=25, iid=1, r_ui=3.0, est=3.8793456032719837, details={'was_impossible': True, 'reason': 'Not enough neighbors.'}),\n",
       " Prediction(uid=232, iid=12, r_ui=3.0, est=5, details={'actual_k': 3, 'was_impossible': False}),\n",
       " Prediction(uid=49, iid=8, r_ui=5.0, est=4.0, details={'actual_k': 3, 'was_impossible': False}),\n",
       " Prediction(uid=244, iid=7, r_ui=4.0, est=3.3333333333333335, details={'actual_k': 3, 'was_impossible': False}),\n",
       " Prediction(uid=71, iid=13, r_ui=5.0, est=4.340400919672734, details={'actual_k': 3, 'was_impossible': False}),\n",
       " Prediction(uid=10, iid=10, r_ui=3.0, est=4.002943285906817, details={'actual_k': 3, 'was_impossible': False}),\n",
       " Prediction(uid=234, iid=10, r_ui=3.0, est=4.000652244175228, details={'actual_k': 3, 'was_impossible': False}),\n",
       " Prediction(uid=260, iid=16, r_ui=4.0, est=4.350324717420088, details={'actual_k': 3, 'was_impossible': False}),\n",
       " Prediction(uid=51, iid=7, r_ui=5.0, est=4.333333333333333, details={'actual_k': 3, 'was_impossible': False}),\n",
       " Prediction(uid=264, iid=20, r_ui=4.0, est=3.2923705364032494, details={'actual_k': 3, 'was_impossible': False}),\n",
       " Prediction(uid=269, iid=9, r_ui=5.0, est=4.041556211750918, details={'actual_k': 3, 'was_impossible': False}),\n",
       " Prediction(uid=127, iid=12, r_ui=4.0, est=3.642243582536349, details={'actual_k': 3, 'was_impossible': False}),\n",
       " Prediction(uid=111, iid=11, r_ui=4.0, est=3.980401970736274, details={'actual_k': 3, 'was_impossible': False}),\n",
       " Prediction(uid=273, iid=19, r_ui=4.0, est=4.316272057461727, details={'actual_k': 3, 'was_impossible': False}),\n",
       " Prediction(uid=238, iid=13, r_ui=3.0, est=4.29713088221701, details={'actual_k': 3, 'was_impossible': False}),\n",
       " Prediction(uid=245, iid=2, r_ui=5.0, est=4.333333333333333, details={'actual_k': 3, 'was_impossible': False}),\n",
       " Prediction(uid=152, iid=11, r_ui=4.0, est=3.3333333333333335, details={'actual_k': 3, 'was_impossible': False}),\n",
       " Prediction(uid=87, iid=10, r_ui=4.0, est=3.361248952882719, details={'actual_k': 3, 'was_impossible': False}),\n",
       " Prediction(uid=71, iid=10, r_ui=5.0, est=4.331187338544262, details={'actual_k': 3, 'was_impossible': False}),\n",
       " Prediction(uid=119, iid=13, r_ui=3.0, est=3.8793456032719837, details={'was_impossible': True, 'reason': 'Not enough neighbors.'}),\n",
       " Prediction(uid=278, iid=15, r_ui=2.0, est=3.0, details={'actual_k': 3, 'was_impossible': False}),\n",
       " Prediction(uid=86, iid=15, r_ui=5.0, est=3.3123022707224865, details={'actual_k': 3, 'was_impossible': False}),\n",
       " Prediction(uid=158, iid=9, r_ui=3.0, est=4.3230423367438995, details={'actual_k': 3, 'was_impossible': False}),\n",
       " Prediction(uid=230, iid=8, r_ui=5.0, est=4.666666666666667, details={'actual_k': 3, 'was_impossible': False}),\n",
       " Prediction(uid=122, iid=9, r_ui=4.0, est=2.914526175639406, details={'actual_k': 3, 'was_impossible': False}),\n",
       " Prediction(uid=141, iid=8, r_ui=3.0, est=3.6666666666666665, details={'actual_k': 3, 'was_impossible': False}),\n",
       " Prediction(uid=25, iid=2, r_ui=5.0, est=3.8793456032719837, details={'was_impossible': True, 'reason': 'Not enough neighbors.'}),\n",
       " Prediction(uid=246, iid=7, r_ui=4.0, est=4.333333333333333, details={'actual_k': 3, 'was_impossible': False}),\n",
       " Prediction(uid=79, iid=8, r_ui=5.0, est=4.666666666666667, details={'actual_k': 3, 'was_impossible': False}),\n",
       " Prediction(uid=116, iid=1, r_ui=4.0, est=4.288798335897893, details={'actual_k': 3, 'was_impossible': False}),\n",
       " Prediction(uid=225, iid=5, r_ui=5.0, est=4.0, details={'actual_k': 3, 'was_impossible': False}),\n",
       " Prediction(uid=246, iid=1, r_ui=5.0, est=4.0, details={'actual_k': 3, 'was_impossible': False}),\n",
       " Prediction(uid=53, iid=5, r_ui=3.0, est=4.666666666666667, details={'actual_k': 3, 'was_impossible': False}),\n",
       " Prediction(uid=162, iid=1, r_ui=3.0, est=4.333333333333333, details={'actual_k': 3, 'was_impossible': False}),\n",
       " Prediction(uid=40, iid=9, r_ui=3.0, est=1.9863918234654667, details={'actual_k': 3, 'was_impossible': False}),\n",
       " Prediction(uid=19, iid=15, r_ui=3.0, est=2.6666666666666665, details={'actual_k': 3, 'was_impossible': False}),\n",
       " Prediction(uid=116, iid=16, r_ui=5.0, est=4.652573914140521, details={'actual_k': 3, 'was_impossible': False}),\n",
       " Prediction(uid=198, iid=3, r_ui=4.0, est=4.333333333333333, details={'actual_k': 3, 'was_impossible': False}),\n",
       " Prediction(uid=78, iid=13, r_ui=4.0, est=3.6939672200395504, details={'actual_k': 3, 'was_impossible': False}),\n",
       " Prediction(uid=247, iid=7, r_ui=4.0, est=4.0, details={'actual_k': 3, 'was_impossible': False}),\n",
       " Prediction(uid=143, iid=4, r_ui=3.0, est=3.8850973253269343, details={'actual_k': 3, 'was_impossible': False}),\n",
       " Prediction(uid=33, iid=3, r_ui=5.0, est=4.333333333333333, details={'actual_k': 3, 'was_impossible': False}),\n",
       " Prediction(uid=254, iid=10, r_ui=5.0, est=3.3832423105743796, details={'actual_k': 3, 'was_impossible': False}),\n",
       " Prediction(uid=115, iid=8, r_ui=4.0, est=3.6666666666666665, details={'actual_k': 3, 'was_impossible': False}),\n",
       " Prediction(uid=260, iid=20, r_ui=2.0, est=1.6538965817321116, details={'actual_k': 3, 'was_impossible': False}),\n",
       " Prediction(uid=42, iid=14, r_ui=1.0, est=3.32947093517885, details={'actual_k': 3, 'was_impossible': False}),\n",
       " Prediction(uid=76, iid=15, r_ui=5.0, est=4.0, details={'actual_k': 3, 'was_impossible': False}),\n",
       " Prediction(uid=222, iid=7, r_ui=3.0, est=3.8793456032719837, details={'was_impossible': True, 'reason': 'User and/or item is unkown.'}),\n",
       " Prediction(uid=151, iid=12, r_ui=5.0, est=3.9887399354630704, details={'actual_k': 3, 'was_impossible': False}),\n",
       " Prediction(uid=166, iid=1, r_ui=5.0, est=4.333333333333333, details={'actual_k': 3, 'was_impossible': False}),\n",
       " Prediction(uid=208, iid=2, r_ui=5.0, est=3.6666666666666665, details={'actual_k': 3, 'was_impossible': False}),\n",
       " Prediction(uid=7, iid=6, r_ui=3.0, est=4.046745781122056, details={'actual_k': 3, 'was_impossible': False}),\n",
       " Prediction(uid=249, iid=2, r_ui=5.0, est=4.0, details={'actual_k': 3, 'was_impossible': False}),\n",
       " Prediction(uid=280, iid=3, r_ui=4.0, est=4.666666666666667, details={'actual_k': 3, 'was_impossible': False}),\n",
       " Prediction(uid=1, iid=8, r_ui=4.0, est=2.7257081148225684, details={'actual_k': 3, 'was_impossible': False}),\n",
       " Prediction(uid=229, iid=1, r_ui=3.0, est=3.3333333333333335, details={'actual_k': 3, 'was_impossible': False}),\n",
       " Prediction(uid=246, iid=16, r_ui=2.0, est=4.666666666666667, details={'actual_k': 3, 'was_impossible': False}),\n",
       " Prediction(uid=11, iid=7, r_ui=4.0, est=3.3333333333333335, details={'actual_k': 3, 'was_impossible': False}),\n",
       " Prediction(uid=184, iid=11, r_ui=4.0, est=3.3333333333333335, details={'actual_k': 3, 'was_impossible': False}),\n",
       " Prediction(uid=105, iid=7, r_ui=4.0, est=3.3333333333333335, details={'actual_k': 3, 'was_impossible': False}),\n",
       " Prediction(uid=31, iid=15, r_ui=4.0, est=3.6666666666666665, details={'actual_k': 3, 'was_impossible': False}),\n",
       " Prediction(uid=213, iid=17, r_ui=4.0, est=3.238219116107279, details={'actual_k': 3, 'was_impossible': False}),\n",
       " Prediction(uid=252, iid=14, r_ui=4.0, est=3.6666666666666665, details={'actual_k': 3, 'was_impossible': False}),\n",
       " Prediction(uid=287, iid=7, r_ui=5.0, est=4.0, details={'actual_k': 3, 'was_impossible': False}),\n",
       " Prediction(uid=190, iid=11, r_ui=3.0, est=4.0, details={'actual_k': 3, 'was_impossible': False}),\n",
       " Prediction(uid=153, iid=15, r_ui=5.0, est=2.0, details={'actual_k': 3, 'was_impossible': False}),\n",
       " Prediction(uid=201, iid=16, r_ui=5.0, est=3.0, details={'actual_k': 3, 'was_impossible': False}),\n",
       " Prediction(uid=127, iid=19, r_ui=4.0, est=3.2243373172478886, details={'actual_k': 3, 'was_impossible': False}),\n",
       " Prediction(uid=280, iid=16, r_ui=3.0, est=3.6666666666666665, details={'actual_k': 3, 'was_impossible': False}),\n",
       " Prediction(uid=159, iid=11, r_ui=4.0, est=3.9882607344438985, details={'actual_k': 3, 'was_impossible': False}),\n",
       " Prediction(uid=106, iid=14, r_ui=4.0, est=3.3333333333333335, details={'actual_k': 3, 'was_impossible': False}),\n",
       " Prediction(uid=259, iid=18, r_ui=4.0, est=3.850359320322984, details={'actual_k': 3, 'was_impossible': False}),\n",
       " Prediction(uid=268, iid=7, r_ui=5.0, est=4.333333333333333, details={'actual_k': 3, 'was_impossible': False}),\n",
       " Prediction(uid=204, iid=2, r_ui=5.0, est=5, details={'actual_k': 3, 'was_impossible': False}),\n",
       " Prediction(uid=231, iid=18, r_ui=4.0, est=4.3776828293269965, details={'actual_k': 3, 'was_impossible': False}),\n",
       " Prediction(uid=203, iid=9, r_ui=5.0, est=4.654630869066802, details={'actual_k': 3, 'was_impossible': False}),\n",
       " Prediction(uid=16, iid=3, r_ui=4.0, est=3.3333333333333335, details={'actual_k': 3, 'was_impossible': False}),\n",
       " Prediction(uid=37, iid=19, r_ui=5.0, est=2.9344873717105826, details={'actual_k': 3, 'was_impossible': False}),\n",
       " Prediction(uid=2, iid=11, r_ui=5.0, est=3.3333333333333335, details={'actual_k': 3, 'was_impossible': False}),\n",
       " Prediction(uid=148, iid=5, r_ui=5.0, est=3.8793456032719837, details={'was_impossible': True, 'reason': 'Not enough neighbors.'}),\n",
       " Prediction(uid=113, iid=1, r_ui=3.0, est=4.676047338408265, details={'actual_k': 3, 'was_impossible': False}),\n",
       " Prediction(uid=196, iid=3, r_ui=5.0, est=5, details={'actual_k': 3, 'was_impossible': False}),\n",
       " Prediction(uid=159, iid=6, r_ui=4.0, est=4.362186729021376, details={'actual_k': 3, 'was_impossible': False}),\n",
       " Prediction(uid=197, iid=2, r_ui=1.0, est=3.8793456032719837, details={'was_impossible': True, 'reason': 'Not enough neighbors.'}),\n",
       " Prediction(uid=197, iid=15, r_ui=3.0, est=3.8793456032719837, details={'was_impossible': True, 'reason': 'Not enough neighbors.'}),\n",
       " Prediction(uid=196, iid=5, r_ui=1.0, est=4.666666666666667, details={'actual_k': 3, 'was_impossible': False}),\n",
       " Prediction(uid=12, iid=8, r_ui=5.0, est=4.333333333333333, details={'actual_k': 3, 'was_impossible': False}),\n",
       " Prediction(uid=3, iid=19, r_ui=1.0, est=2.302223135967413, details={'actual_k': 3, 'was_impossible': False}),\n",
       " Prediction(uid=45, iid=7, r_ui=4.0, est=4.333333333333333, details={'actual_k': 3, 'was_impossible': False}),\n",
       " Prediction(uid=50, iid=7, r_ui=5.0, est=4.333333333333333, details={'actual_k': 3, 'was_impossible': False}),\n",
       " Prediction(uid=29, iid=12, r_ui=4.0, est=3.3333333333333335, details={'actual_k': 3, 'was_impossible': False}),\n",
       " Prediction(uid=287, iid=20, r_ui=2.0, est=3.5838577532474636, details={'actual_k': 3, 'was_impossible': False}),\n",
       " Prediction(uid=58, iid=3, r_ui=3.0, est=4.666666666666667, details={'actual_k': 3, 'was_impossible': False}),\n",
       " Prediction(uid=75, iid=3, r_ui=5.0, est=4.0, details={'actual_k': 3, 'was_impossible': False}),\n",
       " Prediction(uid=1, iid=17, r_ui=5.0, est=4.281839452930334, details={'actual_k': 3, 'was_impossible': False}),\n",
       " Prediction(uid=10, iid=5, r_ui=4.0, est=4.0, details={'actual_k': 3, 'was_impossible': False}),\n",
       " Prediction(uid=220, iid=11, r_ui=3.0, est=3.9565217391304346, details={'actual_k': 3, 'was_impossible': False}),\n",
       " Prediction(uid=277, iid=14, r_ui=5.0, est=3.6625944734034444, details={'actual_k': 3, 'was_impossible': False}),\n",
       " Prediction(uid=220, iid=3, r_ui=4.0, est=4.333333333333333, details={'actual_k': 3, 'was_impossible': False}),\n",
       " Prediction(uid=273, iid=13, r_ui=5.0, est=4.357142857142857, details={'actual_k': 3, 'was_impossible': False}),\n",
       " Prediction(uid=167, iid=16, r_ui=4.0, est=4.16224177716683, details={'actual_k': 3, 'was_impossible': False}),\n",
       " Prediction(uid=231, iid=10, r_ui=3.0, est=4.332641599469026, details={'actual_k': 3, 'was_impossible': False}),\n",
       " Prediction(uid=265, iid=16, r_ui=3.0, est=4.666666666666667, details={'actual_k': 3, 'was_impossible': False}),\n",
       " Prediction(uid=3, iid=18, r_ui=3.0, est=2.2938597520273136, details={'actual_k': 3, 'was_impossible': False}),\n",
       " Prediction(uid=11, iid=12, r_ui=5.0, est=5, details={'actual_k': 3, 'was_impossible': False}),\n",
       " Prediction(uid=139, iid=15, r_ui=5.0, est=1.6666666666666667, details={'actual_k': 3, 'was_impossible': False}),\n",
       " Prediction(uid=138, iid=3, r_ui=5.0, est=4.0, details={'actual_k': 3, 'was_impossible': False}),\n",
       " Prediction(uid=270, iid=8, r_ui=4.0, est=4.333333333333333, details={'actual_k': 3, 'was_impossible': False}),\n",
       " Prediction(uid=260, iid=7, r_ui=5.0, est=4.666666666666667, details={'actual_k': 3, 'was_impossible': False}),\n",
       " Prediction(uid=28, iid=3, r_ui=5.0, est=4.0, details={'actual_k': 3, 'was_impossible': False}),\n",
       " Prediction(uid=134, iid=15, r_ui=2.0, est=3.3333333333333335, details={'actual_k': 3, 'was_impossible': False}),\n",
       " Prediction(uid=71, iid=8, r_ui=5.0, est=4.320862370359676, details={'actual_k': 3, 'was_impossible': False}),\n",
       " Prediction(uid=194, iid=1, r_ui=4.0, est=3.0, details={'actual_k': 3, 'was_impossible': False}),\n",
       " Prediction(uid=100, iid=2, r_ui=4.0, est=4.0, details={'actual_k': 3, 'was_impossible': False}),\n",
       " Prediction(uid=291, iid=20, r_ui=4.0, est=3.278124131568211, details={'actual_k': 3, 'was_impossible': False}),\n",
       " Prediction(uid=224, iid=7, r_ui=3.0, est=3.6666666666666665, details={'actual_k': 3, 'was_impossible': False}),\n",
       " Prediction(uid=160, iid=15, r_ui=3.0, est=2.6666666666666665, details={'actual_k': 3, 'was_impossible': False}),\n",
       " Prediction(uid=220, iid=2, r_ui=3.0, est=4.0, details={'actual_k': 3, 'was_impossible': False}),\n",
       " Prediction(uid=53, iid=12, r_ui=2.0, est=3.983316782919208, details={'actual_k': 3, 'was_impossible': False}),\n",
       " Prediction(uid=200, iid=13, r_ui=3.0, est=3.3333333333333335, details={'actual_k': 3, 'was_impossible': False}),\n",
       " Prediction(uid=159, iid=10, r_ui=3.0, est=3.990245634463485, details={'actual_k': 3, 'was_impossible': False}),\n",
       " Prediction(uid=159, iid=16, r_ui=3.0, est=4.015359839451617, details={'actual_k': 3, 'was_impossible': False}),\n",
       " Prediction(uid=68, iid=11, r_ui=5.0, est=4.666666666666667, details={'actual_k': 3, 'was_impossible': False}),\n",
       " Prediction(uid=166, iid=17, r_ui=4.0, est=5, details={'actual_k': 3, 'was_impossible': False}),\n",
       " Prediction(uid=53, iid=1, r_ui=5.0, est=5, details={'actual_k': 3, 'was_impossible': False}),\n",
       " Prediction(uid=276, iid=7, r_ui=4.0, est=3.6974358059650547, details={'actual_k': 3, 'was_impossible': False}),\n",
       " Prediction(uid=113, iid=6, r_ui=4.0, est=3.7058725417263636, details={'actual_k': 3, 'was_impossible': False}),\n",
       " Prediction(uid=270, iid=5, r_ui=5.0, est=4.0, details={'actual_k': 3, 'was_impossible': False}),\n",
       " Prediction(uid=185, iid=11, r_ui=3.0, est=4.333333333333333, details={'actual_k': 3, 'was_impossible': False}),\n",
       " Prediction(uid=276, iid=3, r_ui=4.0, est=3.0, details={'actual_k': 3, 'was_impossible': False}),\n",
       " Prediction(uid=33, iid=15, r_ui=5.0, est=3.3333333333333335, details={'actual_k': 3, 'was_impossible': False}),\n",
       " Prediction(uid=82, iid=8, r_ui=4.0, est=4.0, details={'actual_k': 3, 'was_impossible': False}),\n",
       " Prediction(uid=72, iid=8, r_ui=5.0, est=2.9713812240964383, details={'actual_k': 3, 'was_impossible': False}),\n",
       " Prediction(uid=27, iid=8, r_ui=4.0, est=4.333333333333333, details={'actual_k': 3, 'was_impossible': False}),\n",
       " Prediction(uid=122, iid=2, r_ui=5.0, est=5, details={'actual_k': 3, 'was_impossible': False}),\n",
       " Prediction(uid=117, iid=8, r_ui=4.0, est=4.666666666666667, details={'actual_k': 3, 'was_impossible': False}),\n",
       " Prediction(uid=99, iid=4, r_ui=3.0, est=4.0, details={'actual_k': 3, 'was_impossible': False}),\n",
       " Prediction(uid=104, iid=18, r_ui=4.0, est=3.403589163731537, details={'actual_k': 3, 'was_impossible': False}),\n",
       " Prediction(uid=97, iid=2, r_ui=4.0, est=4.333333333333333, details={'actual_k': 3, 'was_impossible': False}),\n",
       " Prediction(uid=90, iid=5, r_ui=5.0, est=3.6666666666666665, details={'actual_k': 3, 'was_impossible': False}),\n",
       " Prediction(uid=234, iid=15, r_ui=5.0, est=3.3333333333333335, details={'actual_k': 3, 'was_impossible': False}),\n",
       " Prediction(uid=207, iid=5, r_ui=5.0, est=3.8793456032719837, details={'was_impossible': True, 'reason': 'Not enough neighbors.'}),\n",
       " Prediction(uid=231, iid=15, r_ui=5.0, est=3.3333333333333335, details={'actual_k': 3, 'was_impossible': False}),\n",
       " Prediction(uid=182, iid=11, r_ui=3.0, est=3.3539288190943526, details={'actual_k': 3, 'was_impossible': False}),\n",
       " Prediction(uid=256, iid=8, r_ui=2.0, est=3.8793456032719837, details={'was_impossible': True, 'reason': 'Not enough neighbors.'}),\n",
       " Prediction(uid=76, iid=7, r_ui=3.0, est=4.666666666666667, details={'actual_k': 3, 'was_impossible': False}),\n",
       " Prediction(uid=199, iid=8, r_ui=3.0, est=4.0, details={'actual_k': 3, 'was_impossible': False}),\n",
       " Prediction(uid=182, iid=2, r_ui=4.0, est=3.9686924214952324, details={'actual_k': 3, 'was_impossible': False}),\n",
       " Prediction(uid=11, iid=8, r_ui=4.0, est=4.0, details={'actual_k': 3, 'was_impossible': False}),\n",
       " Prediction(uid=226, iid=12, r_ui=5.0, est=3.8793456032719837, details={'was_impossible': True, 'reason': 'Not enough neighbors.'}),\n",
       " Prediction(uid=261, iid=8, r_ui=5.0, est=3.3333333333333335, details={'actual_k': 3, 'was_impossible': False}),\n",
       " Prediction(uid=260, iid=2, r_ui=5.0, est=4.333333333333333, details={'actual_k': 3, 'was_impossible': False}),\n",
       " Prediction(uid=180, iid=7, r_ui=5.0, est=4.666666666666667, details={'actual_k': 3, 'was_impossible': False}),\n",
       " Prediction(uid=292, iid=12, r_ui=4.0, est=3.6666666666666665, details={'actual_k': 3, 'was_impossible': False}),\n",
       " Prediction(uid=58, iid=12, r_ui=5.0, est=4.318831969700427, details={'actual_k': 3, 'was_impossible': False}),\n",
       " Prediction(uid=291, iid=15, r_ui=2.0, est=3.358275259280648, details={'actual_k': 3, 'was_impossible': False}),\n",
       " Prediction(uid=259, iid=8, r_ui=5.0, est=5, details={'actual_k': 3, 'was_impossible': False}),\n",
       " Prediction(uid=64, iid=6, r_ui=4.0, est=4.012743538065067, details={'actual_k': 3, 'was_impossible': False}),\n",
       " Prediction(uid=175, iid=11, r_ui=4.0, est=4.333333333333333, details={'actual_k': 3, 'was_impossible': False}),\n",
       " Prediction(uid=28, iid=1, r_ui=5.0, est=3.3333333333333335, details={'actual_k': 3, 'was_impossible': False}),\n",
       " Prediction(uid=39, iid=8, r_ui=5.0, est=4.696406017128194, details={'actual_k': 3, 'was_impossible': False}),\n",
       " Prediction(uid=129, iid=10, r_ui=3.0, est=3.3448236121885317, details={'actual_k': 3, 'was_impossible': False}),\n",
       " Prediction(uid=215, iid=2, r_ui=5.0, est=4.0, details={'actual_k': 3, 'was_impossible': False}),\n",
       " Prediction(uid=22, iid=7, r_ui=4.0, est=4.0, details={'actual_k': 3, 'was_impossible': False}),\n",
       " Prediction(uid=140, iid=5, r_ui=5.0, est=4.666666666666667, details={'actual_k': 3, 'was_impossible': False}),\n",
       " Prediction(uid=198, iid=7, r_ui=2.0, est=3.3333333333333335, details={'actual_k': 3, 'was_impossible': False}),\n",
       " Prediction(uid=200, iid=11, r_ui=4.0, est=4.321307348096321, details={'actual_k': 3, 'was_impossible': False}),\n",
       " Prediction(uid=185, iid=3, r_ui=4.0, est=4.0, details={'actual_k': 3, 'was_impossible': False}),\n",
       " Prediction(uid=272, iid=3, r_ui=4.0, est=4.0, details={'actual_k': 3, 'was_impossible': False}),\n",
       " Prediction(uid=13, iid=11, r_ui=2.0, est=4.0, details={'actual_k': 3, 'was_impossible': False}),\n",
       " Prediction(uid=182, iid=4, r_ui=1.0, est=4.31674887070768, details={'actual_k': 3, 'was_impossible': False}),\n",
       " Prediction(uid=4, iid=2, r_ui=3.0, est=3.9683257918552037, details={'actual_k': 3, 'was_impossible': False}),\n",
       " Prediction(uid=40, iid=1, r_ui=3.0, est=4.329304803993765, details={'actual_k': 3, 'was_impossible': False}),\n",
       " Prediction(uid=114, iid=8, r_ui=3.0, est=4.0, details={'actual_k': 3, 'was_impossible': False}),\n",
       " Prediction(uid=167, iid=17, r_ui=4.0, est=3.255806817978972, details={'actual_k': 3, 'was_impossible': False}),\n",
       " Prediction(uid=90, iid=2, r_ui=4.0, est=4.333333333333333, details={'actual_k': 3, 'was_impossible': False}),\n",
       " Prediction(uid=162, iid=18, r_ui=4.0, est=4.335679997140742, details={'actual_k': 3, 'was_impossible': False}),\n",
       " Prediction(uid=282, iid=19, r_ui=3.0, est=2.9888068835218435, details={'actual_k': 3, 'was_impossible': False}),\n",
       " Prediction(uid=88, iid=5, r_ui=5.0, est=4.0, details={'actual_k': 3, 'was_impossible': False}),\n",
       " Prediction(uid=89, iid=1, r_ui=5.0, est=4.0, details={'actual_k': 3, 'was_impossible': False}),\n",
       " Prediction(uid=194, iid=5, r_ui=4.0, est=4.333333333333333, details={'actual_k': 3, 'was_impossible': False}),\n",
       " Prediction(uid=146, iid=12, r_ui=5.0, est=3.96524206821175, details={'actual_k': 3, 'was_impossible': False}),\n",
       " Prediction(uid=192, iid=16, r_ui=3.0, est=3.6703844835456447, details={'actual_k': 3, 'was_impossible': False}),\n",
       " Prediction(uid=241, iid=18, r_ui=2.0, est=4.369054755130104, details={'actual_k': 3, 'was_impossible': False}),\n",
       " Prediction(uid=90, iid=16, r_ui=4.0, est=5, details={'actual_k': 3, 'was_impossible': False}),\n",
       " Prediction(uid=202, iid=12, r_ui=3.0, est=4.666666666666667, details={'actual_k': 3, 'was_impossible': False}),\n",
       " Prediction(uid=234, iid=6, r_ui=4.0, est=4.332007850578361, details={'actual_k': 3, 'was_impossible': False}),\n",
       " Prediction(uid=233, iid=4, r_ui=4.0, est=4.301306093491455, details={'actual_k': 3, 'was_impossible': False}),\n",
       " Prediction(uid=154, iid=14, r_ui=3.0, est=3.0, details={'actual_k': 3, 'was_impossible': False}),\n",
       " Prediction(uid=8, iid=11, r_ui=4.0, est=3.0, details={'actual_k': 3, 'was_impossible': False}),\n",
       " Prediction(uid=170, iid=16, r_ui=4.0, est=4.0, details={'actual_k': 3, 'was_impossible': False}),\n",
       " Prediction(uid=121, iid=8, r_ui=5.0, est=4.333333333333333, details={'actual_k': 3, 'was_impossible': False}),\n",
       " Prediction(uid=134, iid=11, r_ui=3.0, est=4.0, details={'actual_k': 3, 'was_impossible': False}),\n",
       " Prediction(uid=69, iid=14, r_ui=5.0, est=3.6666666666666665, details={'actual_k': 3, 'was_impossible': False}),\n",
       " Prediction(uid=276, iid=19, r_ui=4.0, est=4.0547452409922355, details={'actual_k': 3, 'was_impossible': False}),\n",
       " Prediction(uid=227, iid=5, r_ui=4.0, est=4.666666666666667, details={'actual_k': 3, 'was_impossible': False}),\n",
       " Prediction(uid=149, iid=2, r_ui=5.0, est=4.666666666666667, details={'actual_k': 3, 'was_impossible': False}),\n",
       " Prediction(uid=279, iid=15, r_ui=4.0, est=2.6666666666666665, details={'actual_k': 3, 'was_impossible': False}),\n",
       " Prediction(uid=65, iid=3, r_ui=5.0, est=5, details={'actual_k': 3, 'was_impossible': False}),\n",
       " Prediction(uid=137, iid=7, r_ui=5.0, est=4.333333333333333, details={'actual_k': 3, 'was_impossible': False}),\n",
       " Prediction(uid=93, iid=8, r_ui=5.0, est=4.666666666666667, details={'actual_k': 3, 'was_impossible': False}),\n",
       " Prediction(uid=24, iid=2, r_ui=5.0, est=3.6666666666666665, details={'actual_k': 3, 'was_impossible': False}),\n",
       " Prediction(uid=53, iid=5, r_ui=3.0, est=4.666666666666667, details={'actual_k': 3, 'was_impossible': False}),\n",
       " Prediction(uid=71, iid=19, r_ui=5.0, est=2.9361436634051103, details={'actual_k': 3, 'was_impossible': False}),\n",
       " Prediction(uid=180, iid=16, r_ui=3.0, est=4.333333333333333, details={'actual_k': 3, 'was_impossible': False}),\n",
       " Prediction(uid=99, iid=3, r_ui=5.0, est=5, details={'actual_k': 3, 'was_impossible': False}),\n",
       " Prediction(uid=278, iid=12, r_ui=4.0, est=3.3769799862348218, details={'actual_k': 3, 'was_impossible': False}),\n",
       " Prediction(uid=179, iid=3, r_ui=5.0, est=4.0, details={'actual_k': 3, 'was_impossible': False}),\n",
       " Prediction(uid=190, iid=2, r_ui=5.0, est=3.0060427940093515, details={'actual_k': 3, 'was_impossible': False}),\n",
       " Prediction(uid=44, iid=5, r_ui=4.0, est=4.333333333333333, details={'actual_k': 3, 'was_impossible': False}),\n",
       " Prediction(uid=137, iid=1, r_ui=5.0, est=5, details={'actual_k': 3, 'was_impossible': False}),\n",
       " Prediction(uid=121, iid=5, r_ui=5.0, est=3.6666666666666665, details={'actual_k': 3, 'was_impossible': False}),\n",
       " Prediction(uid=104, iid=17, r_ui=5.0, est=3.3825796521578293, details={'actual_k': 3, 'was_impossible': False}),\n",
       " Prediction(uid=284, iid=7, r_ui=5.0, est=3.0, details={'actual_k': 3, 'was_impossible': False}),\n",
       " Prediction(uid=233, iid=2, r_ui=3.0, est=4.569937954054145, details={'actual_k': 3, 'was_impossible': False}),\n",
       " Prediction(uid=240, iid=14, r_ui=3.0, est=2.6666666666666665, details={'actual_k': 3, 'was_impossible': False}),\n",
       " Prediction(uid=1, iid=2, r_ui=5.0, est=4.6697023333569705, details={'actual_k': 3, 'was_impossible': False}),\n",
       " Prediction(uid=199, iid=11, r_ui=2.0, est=3.3333333333333335, details={'actual_k': 3, 'was_impossible': False}),\n",
       " Prediction(uid=264, iid=10, r_ui=4.0, est=3.741924615294853, details={'actual_k': 3, 'was_impossible': False}),\n",
       " Prediction(uid=210, iid=17, r_ui=5.0, est=4.1613391842720375, details={'actual_k': 3, 'was_impossible': False}),\n",
       " Prediction(uid=11, iid=15, r_ui=5.0, est=3.3333333333333335, details={'actual_k': 3, 'was_impossible': False}),\n",
       " Prediction(uid=94, iid=16, r_ui=2.0, est=4.666666666666667, details={'actual_k': 3, 'was_impossible': False}),\n",
       " Prediction(uid=287, iid=17, r_ui=3.0, est=5, details={'actual_k': 3, 'was_impossible': False}),\n",
       " Prediction(uid=38, iid=6, r_ui=5.0, est=3.61679708001113, details={'actual_k': 3, 'was_impossible': False}),\n",
       " Prediction(uid=133, iid=1, r_ui=3.0, est=4.333333333333333, details={'actual_k': 3, 'was_impossible': False}),\n",
       " Prediction(uid=254, iid=17, r_ui=5.0, est=3.244623485827493, details={'actual_k': 3, 'was_impossible': False}),\n",
       " Prediction(uid=47, iid=7, r_ui=5.0, est=4.333333333333333, details={'actual_k': 3, 'was_impossible': False}),\n",
       " Prediction(uid=264, iid=9, r_ui=4.0, est=3.696769846117941, details={'actual_k': 3, 'was_impossible': False}),\n",
       " Prediction(uid=41, iid=7, r_ui=3.0, est=4.336139334435408, details={'actual_k': 3, 'was_impossible': False}),\n",
       " Prediction(uid=232, iid=7, r_ui=5.0, est=4.333333333333333, details={'actual_k': 3, 'was_impossible': False}),\n",
       " Prediction(uid=241, iid=11, r_ui=5.0, est=4.666666666666667, details={'actual_k': 3, 'was_impossible': False}),\n",
       " Prediction(uid=206, iid=16, r_ui=2.0, est=2.5629549977895216, details={'actual_k': 3, 'was_impossible': False}),\n",
       " Prediction(uid=143, iid=7, r_ui=3.0, est=3.0, details={'actual_k': 3, 'was_impossible': False}),\n",
       " Prediction(uid=77, iid=8, r_ui=5.0, est=4.0, details={'actual_k': 3, 'was_impossible': False}),\n",
       " Prediction(uid=2, iid=1, r_ui=5.0, est=4.333333333333333, details={'actual_k': 3, 'was_impossible': False}),\n",
       " Prediction(uid=53, iid=12, r_ui=2.0, est=3.983316782919208, details={'actual_k': 3, 'was_impossible': False}),\n",
       " Prediction(uid=58, iid=1, r_ui=3.0, est=4.0, details={'actual_k': 3, 'was_impossible': False}),\n",
       " Prediction(uid=180, iid=13, r_ui=3.0, est=4.333333333333333, details={'actual_k': 3, 'was_impossible': False}),\n",
       " Prediction(uid=137, iid=2, r_ui=4.0, est=3.6666666666666665, details={'actual_k': 3, 'was_impossible': False}),\n",
       " Prediction(uid=290, iid=3, r_ui=5.0, est=4.0, details={'actual_k': 3, 'was_impossible': False}),\n",
       " Prediction(uid=72, iid=13, r_ui=4.0, est=3.5996276266015554, details={'actual_k': 3, 'was_impossible': False}),\n",
       " Prediction(uid=292, iid=16, r_ui=2.0, est=4.0, details={'actual_k': 3, 'was_impossible': False}),\n",
       " Prediction(uid=241, iid=12, r_ui=4.0, est=3.9806286599834992, details={'actual_k': 3, 'was_impossible': False}),\n",
       " Prediction(uid=164, iid=12, r_ui=3.0, est=3.8793456032719837, details={'was_impossible': True, 'reason': 'Not enough neighbors.'}),\n",
       " Prediction(uid=266, iid=3, r_ui=5.0, est=4.0, details={'actual_k': 3, 'was_impossible': False}),\n",
       " Prediction(uid=197, iid=1, r_ui=3.0, est=3.8793456032719837, details={'was_impossible': True, 'reason': 'Not enough neighbors.'}),\n",
       " Prediction(uid=237, iid=15, r_ui=1.0, est=2.6666666666666665, details={'actual_k': 3, 'was_impossible': False}),\n",
       " Prediction(uid=129, iid=3, r_ui=4.0, est=3.3333333333333335, details={'actual_k': 3, 'was_impossible': False}),\n",
       " Prediction(uid=86, iid=19, r_ui=2.0, est=4.599959822563504, details={'actual_k': 3, 'was_impossible': False}),\n",
       " Prediction(uid=257, iid=5, r_ui=4.0, est=5, details={'actual_k': 3, 'was_impossible': False}),\n",
       " Prediction(uid=238, iid=5, r_ui=4.0, est=4.333333333333333, details={'actual_k': 3, 'was_impossible': False}),\n",
       " Prediction(uid=208, iid=18, r_ui=4.0, est=3.274951308605878, details={'actual_k': 3, 'was_impossible': False}),\n",
       " Prediction(uid=249, iid=9, r_ui=3.0, est=4.0, details={'actual_k': 3, 'was_impossible': False}),\n",
       " Prediction(uid=56, iid=15, r_ui=2.0, est=3.6666666666666665, details={'actual_k': 3, 'was_impossible': False}),\n",
       " Prediction(uid=269, iid=12, r_ui=5.0, est=5, details={'actual_k': 3, 'was_impossible': False}),\n",
       " Prediction(uid=83, iid=6, r_ui=3.0, est=4.710924416379099, details={'actual_k': 3, 'was_impossible': False}),\n",
       " Prediction(uid=108, iid=5, r_ui=5.0, est=4.0, details={'actual_k': 3, 'was_impossible': False}),\n",
       " Prediction(uid=65, iid=13, r_ui=4.0, est=3.0, details={'actual_k': 3, 'was_impossible': False}),\n",
       " Prediction(uid=141, iid=5, r_ui=5.0, est=4.666666666666667, details={'actual_k': 3, 'was_impossible': False}),\n",
       " Prediction(uid=241, iid=19, r_ui=2.0, est=3.356508677605505, details={'actual_k': 3, 'was_impossible': False}),\n",
       " Prediction(uid=281, iid=10, r_ui=2.0, est=3.5507816529546408, details={'actual_k': 3, 'was_impossible': False}),\n",
       " Prediction(uid=209, iid=10, r_ui=3.0, est=3.609355020084824, details={'actual_k': 3, 'was_impossible': False}),\n",
       " Prediction(uid=221, iid=2, r_ui=4.0, est=4.333333333333333, details={'actual_k': 3, 'was_impossible': False}),\n",
       " Prediction(uid=68, iid=5, r_ui=5.0, est=4.666666666666667, details={'actual_k': 3, 'was_impossible': False}),\n",
       " Prediction(uid=189, iid=3, r_ui=5.0, est=4.333333333333333, details={'actual_k': 3, 'was_impossible': False}),\n",
       " Prediction(uid=119, iid=7, r_ui=4.0, est=3.8793456032719837, details={'was_impossible': True, 'reason': 'Not enough neighbors.'}),\n",
       " Prediction(uid=119, iid=16, r_ui=4.0, est=3.8793456032719837, details={'was_impossible': True, 'reason': 'Not enough neighbors.'}),\n",
       " Prediction(uid=118, iid=16, r_ui=5.0, est=4.0, details={'actual_k': 3, 'was_impossible': False}),\n",
       " Prediction(uid=191, iid=11, r_ui=4.0, est=4.0, details={'actual_k': 3, 'was_impossible': False}),\n",
       " Prediction(uid=204, iid=19, r_ui=3.0, est=4.006259215956065, details={'actual_k': 3, 'was_impossible': False}),\n",
       " Prediction(uid=196, iid=13, r_ui=5.0, est=4.0, details={'actual_k': 3, 'was_impossible': False}),\n",
       " Prediction(uid=89, iid=12, r_ui=3.0, est=4.0, details={'actual_k': 3, 'was_impossible': False}),\n",
       " Prediction(uid=40, iid=3, r_ui=4.0, est=3.3333333333333335, details={'actual_k': 3, 'was_impossible': False}),\n",
       " Prediction(uid=152, iid=1, r_ui=4.0, est=3.6666666666666665, details={'actual_k': 3, 'was_impossible': False}),\n",
       " Prediction(uid=74, iid=15, r_ui=5.0, est=4.0, details={'actual_k': 3, 'was_impossible': False}),\n",
       " Prediction(uid=31, iid=1, r_ui=4.0, est=3.6666666666666665, details={'actual_k': 3, 'was_impossible': False}),\n",
       " Prediction(uid=30, iid=2, r_ui=4.0, est=3.8793456032719837, details={'was_impossible': True, 'reason': 'Not enough neighbors.'}),\n",
       " Prediction(uid=147, iid=1, r_ui=4.0, est=4.666666666666667, details={'actual_k': 3, 'was_impossible': False}),\n",
       " Prediction(uid=223, iid=5, r_ui=5.0, est=4.0, details={'actual_k': 3, 'was_impossible': False}),\n",
       " Prediction(uid=273, iid=11, r_ui=4.0, est=2.6666666666666665, details={'actual_k': 3, 'was_impossible': False}),\n",
       " Prediction(uid=269, iid=16, r_ui=4.0, est=4.0, details={'actual_k': 3, 'was_impossible': False}),\n",
       " Prediction(uid=35, iid=3, r_ui=2.0, est=3.3333333333333335, details={'actual_k': 3, 'was_impossible': False}),\n",
       " Prediction(uid=161, iid=17, r_ui=3.0, est=4.2913287537227, details={'actual_k': 3, 'was_impossible': False}),\n",
       " Prediction(uid=53, iid=2, r_ui=4.0, est=4.333333333333333, details={'actual_k': 3, 'was_impossible': False}),\n",
       " Prediction(uid=193, iid=3, r_ui=5.0, est=4.333333333333333, details={'actual_k': 3, 'was_impossible': False}),\n",
       " Prediction(uid=54, iid=5, r_ui=5.0, est=3.8793456032719837, details={'was_impossible': True, 'reason': 'Not enough neighbors.'}),\n",
       " Prediction(uid=192, iid=12, r_ui=5.0, est=4.663513760539294, details={'actual_k': 3, 'was_impossible': False}),\n",
       " Prediction(uid=44, iid=16, r_ui=5.0, est=3.0, details={'actual_k': 3, 'was_impossible': False}),\n",
       " Prediction(uid=176, iid=11, r_ui=3.0, est=2.968956649315858, details={'actual_k': 3, 'was_impossible': False}),\n",
       " Prediction(uid=2, iid=1, r_ui=1.0, est=4.333333333333333, details={'actual_k': 3, 'was_impossible': False}),\n",
       " Prediction(uid=120, iid=3, r_ui=5.0, est=4.666666666666667, details={'actual_k': 3, 'was_impossible': False}),\n",
       " Prediction(uid=209, iid=5, r_ui=4.0, est=4.333333333333333, details={'actual_k': 3, 'was_impossible': False}),\n",
       " Prediction(uid=35, iid=8, r_ui=4.0, est=3.6666666666666665, details={'actual_k': 3, 'was_impossible': False}),\n",
       " Prediction(uid=90, iid=1, r_ui=5.0, est=4.333333333333333, details={'actual_k': 3, 'was_impossible': False}),\n",
       " Prediction(uid=83, iid=1, r_ui=5.0, est=4.329471456505627, details={'actual_k': 3, 'was_impossible': False}),\n",
       " Prediction(uid=252, iid=17, r_ui=5.0, est=3.9712531164176643, details={'actual_k': 3, 'was_impossible': False}),\n",
       " Prediction(uid=105, iid=15, r_ui=4.0, est=3.6666666666666665, details={'actual_k': 3, 'was_impossible': False}),\n",
       " Prediction(uid=31, iid=3, r_ui=5.0, est=3.3333333333333335, details={'actual_k': 3, 'was_impossible': False}),\n",
       " Prediction(uid=122, iid=15, r_ui=4.0, est=3.6666666666666665, details={'actual_k': 3, 'was_impossible': False}),\n",
       " Prediction(uid=255, iid=16, r_ui=4.0, est=4.999999999999999, details={'actual_k': 3, 'was_impossible': False}),\n",
       " Prediction(uid=223, iid=7, r_ui=5.0, est=3.6666666666666665, details={'actual_k': 3, 'was_impossible': False}),\n",
       " Prediction(uid=83, iid=3, r_ui=3.0, est=4.0, details={'actual_k': 3, 'was_impossible': False}),\n",
       " Prediction(uid=244, iid=8, r_ui=4.0, est=4.0, details={'actual_k': 3, 'was_impossible': False}),\n",
       " Prediction(uid=160, iid=3, r_ui=4.0, est=4.666666666666667, details={'actual_k': 3, 'was_impossible': False}),\n",
       " Prediction(uid=148, iid=11, r_ui=4.0, est=3.8793456032719837, details={'was_impossible': True, 'reason': 'Not enough neighbors.'}),\n",
       " Prediction(uid=248, iid=16, r_ui=1.0, est=3.3333333333333335, details={'actual_k': 3, 'was_impossible': False}),\n",
       " Prediction(uid=129, iid=4, r_ui=3.0, est=4.0, details={'actual_k': 3, 'was_impossible': False}),\n",
       " Prediction(uid=14, iid=11, r_ui=4.0, est=3.3333333333333335, details={'actual_k': 3, 'was_impossible': False}),\n",
       " Prediction(uid=82, iid=5, r_ui=5.0, est=3.6666666666666665, details={'actual_k': 3, 'was_impossible': False}),\n",
       " Prediction(uid=265, iid=11, r_ui=4.0, est=4.333333333333333, details={'actual_k': 3, 'was_impossible': False}),\n",
       " Prediction(uid=162, iid=7, r_ui=4.0, est=3.6666666666666665, details={'actual_k': 3, 'was_impossible': False}),\n",
       " Prediction(uid=252, iid=8, r_ui=5.0, est=3.0, details={'actual_k': 3, 'was_impossible': False}),\n",
       " Prediction(uid=290, iid=20, r_ui=3.0, est=3.884000607704263, details={'actual_k': 3, 'was_impossible': False}),\n",
       " Prediction(uid=117, iid=5, r_ui=5.0, est=4.666666666666667, details={'actual_k': 3, 'was_impossible': False}),\n",
       " Prediction(uid=271, iid=7, r_ui=4.0, est=3.6666666666666665, details={'actual_k': 3, 'was_impossible': False}),\n",
       " Prediction(uid=290, iid=18, r_ui=4.0, est=3.0000000000000004, details={'actual_k': 3, 'was_impossible': False}),\n",
       " Prediction(uid=138, iid=16, r_ui=3.0, est=4.0, details={'actual_k': 3, 'was_impossible': False}),\n",
       " Prediction(uid=104, iid=9, r_ui=5.0, est=3.975107606327932, details={'actual_k': 3, 'was_impossible': False}),\n",
       " Prediction(uid=96, iid=8, r_ui=5.0, est=4.0, details={'actual_k': 3, 'was_impossible': False}),\n",
       " Prediction(uid=282, iid=10, r_ui=3.0, est=3.6400897474443097, details={'actual_k': 3, 'was_impossible': False}),\n",
       " Prediction(uid=20, iid=16, r_ui=3.0, est=4.333333333333333, details={'actual_k': 3, 'was_impossible': False}),\n",
       " Prediction(uid=144, iid=8, r_ui=5.0, est=3.6666666666666665, details={'actual_k': 3, 'was_impossible': False}),\n",
       " Prediction(uid=285, iid=15, r_ui=5.0, est=3.3333333333333335, details={'actual_k': 3, 'was_impossible': False}),\n",
       " Prediction(uid=37, iid=16, r_ui=4.0, est=4.644246688142611, details={'actual_k': 3, 'was_impossible': False}),\n",
       " Prediction(uid=71, iid=9, r_ui=4.0, est=3.271647169363411, details={'actual_k': 3, 'was_impossible': False}),\n",
       " Prediction(uid=230, iid=14, r_ui=4.0, est=4.333333333333333, details={'actual_k': 3, 'was_impossible': False}),\n",
       " Prediction(uid=93, iid=16, r_ui=1.0, est=5, details={'actual_k': 3, 'was_impossible': False}),\n",
       " Prediction(uid=212, iid=6, r_ui=5.0, est=2.3333333333333335, details={'actual_k': 3, 'was_impossible': False}),\n",
       " Prediction(uid=200, iid=6, r_ui=3.0, est=4.326978984574362, details={'actual_k': 3, 'was_impossible': False}),\n",
       " Prediction(uid=148, iid=2, r_ui=5.0, est=3.8793456032719837, details={'was_impossible': True, 'reason': 'Not enough neighbors.'}),\n",
       " Prediction(uid=219, iid=11, r_ui=3.0, est=4.666666666666667, details={'actual_k': 3, 'was_impossible': False}),\n",
       " Prediction(uid=120, iid=5, r_ui=4.0, est=3.3333333333333335, details={'actual_k': 3, 'was_impossible': False}),\n",
       " Prediction(uid=50, iid=8, r_ui=5.0, est=4.333333333333333, details={'actual_k': 3, 'was_impossible': False}),\n",
       " Prediction(uid=65, iid=5, r_ui=3.0, est=4.333333333333333, details={'actual_k': 3, 'was_impossible': False}),\n",
       " Prediction(uid=83, iid=9, r_ui=4.0, est=3.6912935105965143, details={'actual_k': 3, 'was_impossible': False}),\n",
       " Prediction(uid=48, iid=17, r_ui=3.0, est=2.94218089759325, details={'actual_k': 3, 'was_impossible': False}),\n",
       " Prediction(uid=121, iid=1, r_ui=5.0, est=4.0, details={'actual_k': 3, 'was_impossible': False}),\n",
       " Prediction(uid=257, iid=4, r_ui=4.0, est=4.0, details={'actual_k': 3, 'was_impossible': False}),\n",
       " Prediction(uid=202, iid=1, r_ui=5.0, est=4.0, details={'actual_k': 3, 'was_impossible': False}),\n",
       " Prediction(uid=95, iid=3, r_ui=4.0, est=3.8793456032719837, details={'was_impossible': True, 'reason': 'Not enough neighbors.'}),\n",
       " Prediction(uid=159, iid=20, r_ui=5.0, est=2.2036795889733614, details={'actual_k': 3, 'was_impossible': False}),\n",
       " Prediction(uid=226, iid=15, r_ui=3.0, est=3.8793456032719837, details={'was_impossible': True, 'reason': 'Not enough neighbors.'}),\n",
       " Prediction(uid=253, iid=8, r_ui=3.0, est=4.0, details={'actual_k': 3, 'was_impossible': False}),\n",
       " Prediction(uid=210, iid=1, r_ui=3.0, est=4.0, details={'actual_k': 3, 'was_impossible': False}),\n",
       " Prediction(uid=273, iid=14, r_ui=5.0, est=3.6666666666666665, details={'actual_k': 3, 'was_impossible': False}),\n",
       " Prediction(uid=2, iid=5, r_ui=5.0, est=3.0, details={'actual_k': 3, 'was_impossible': False}),\n",
       " Prediction(uid=174, iid=3, r_ui=3.0, est=3.3333333333333335, details={'actual_k': 3, 'was_impossible': False}),\n",
       " Prediction(uid=184, iid=7, r_ui=3.0, est=4.0, details={'actual_k': 3, 'was_impossible': False}),\n",
       " Prediction(uid=2, iid=4, r_ui=1.0, est=3.000064183554755, details={'actual_k': 3, 'was_impossible': False}),\n",
       " Prediction(uid=281, iid=3, r_ui=5.0, est=4.330703392282869, details={'actual_k': 3, 'was_impossible': False}),\n",
       " Prediction(uid=277, iid=5, r_ui=5.0, est=4.333333333333333, details={'actual_k': 3, 'was_impossible': False}),\n",
       " Prediction(uid=159, iid=4, r_ui=5.0, est=4.0, details={'actual_k': 3, 'was_impossible': False}),\n",
       " Prediction(uid=206, iid=1, r_ui=5.0, est=3.6536343143493064, details={'actual_k': 3, 'was_impossible': False}),\n",
       " Prediction(uid=244, iid=12, r_ui=3.0, est=3.0, details={'actual_k': 3, 'was_impossible': False}),\n",
       " Prediction(uid=114, iid=11, r_ui=4.0, est=4.666666666666667, details={'actual_k': 3, 'was_impossible': False}),\n",
       " Prediction(uid=202, iid=13, r_ui=3.0, est=4.0, details={'actual_k': 3, 'was_impossible': False}),\n",
       " Prediction(uid=1, iid=12, r_ui=5.0, est=4.410697522048341, details={'actual_k': 3, 'was_impossible': False}),\n",
       " Prediction(uid=40, iid=4, r_ui=3.0, est=4.333333333333333, details={'actual_k': 3, 'was_impossible': False}),\n",
       " Prediction(uid=108, iid=11, r_ui=3.0, est=4.0, details={'actual_k': 3, 'was_impossible': False}),\n",
       " Prediction(uid=204, iid=14, r_ui=4.0, est=2.6666666666666665, details={'actual_k': 3, 'was_impossible': False}),\n",
       " Prediction(uid=73, iid=16, r_ui=3.0, est=4.0, details={'actual_k': 3, 'was_impossible': False}),\n",
       " Prediction(uid=215, iid=3, r_ui=5.0, est=4.0, details={'actual_k': 3, 'was_impossible': False}),\n",
       " Prediction(uid=264, iid=1, r_ui=3.0, est=4.333333333333333, details={'actual_k': 3, 'was_impossible': False}),\n",
       " Prediction(uid=72, iid=18, r_ui=5.0, est=3.995885341045246, details={'actual_k': 3, 'was_impossible': False}),\n",
       " Prediction(uid=263, iid=11, r_ui=4.0, est=3.0, details={'actual_k': 3, 'was_impossible': False}),\n",
       " Prediction(uid=223, iid=17, r_ui=4.0, est=4.0, details={'actual_k': 3, 'was_impossible': False}),\n",
       " Prediction(uid=213, iid=9, r_ui=2.0, est=3.635684726933277, details={'actual_k': 3, 'was_impossible': False}),\n",
       " Prediction(uid=256, iid=3, r_ui=5.0, est=3.8793456032719837, details={'was_impossible': True, 'reason': 'Not enough neighbors.'}),\n",
       " Prediction(uid=292, iid=11, r_ui=5.0, est=3.6666666666666665, details={'actual_k': 3, 'was_impossible': False}),\n",
       " Prediction(uid=136, iid=6, r_ui=5.0, est=4.666666666666667, details={'actual_k': 3, 'was_impossible': False}),\n",
       " Prediction(uid=272, iid=4, r_ui=4.0, est=3.6243950225436037, details={'actual_k': 3, 'was_impossible': False}),\n",
       " Prediction(uid=199, iid=15, r_ui=1.0, est=3.0, details={'actual_k': 3, 'was_impossible': False}),\n",
       " Prediction(uid=191, iid=3, r_ui=4.0, est=4.333333333333333, details={'actual_k': 3, 'was_impossible': False}),\n",
       " Prediction(uid=140, iid=7, r_ui=4.0, est=3.0, details={'actual_k': 3, 'was_impossible': False}),\n",
       " Prediction(uid=260, iid=12, r_ui=5.0, est=4.0, details={'actual_k': 3, 'was_impossible': False}),\n",
       " Prediction(uid=120, iid=1, r_ui=3.0, est=4.0, details={'actual_k': 3, 'was_impossible': False}),\n",
       " Prediction(uid=29, iid=7, r_ui=5.0, est=4.0, details={'actual_k': 3, 'was_impossible': False}),\n",
       " Prediction(uid=241, iid=20, r_ui=1.0, est=3.6842537336946592, details={'actual_k': 3, 'was_impossible': False}),\n",
       " Prediction(uid=1, iid=14, r_ui=4.0, est=4.427155788711046, details={'actual_k': 3, 'was_impossible': False}),\n",
       " Prediction(uid=95, iid=8, r_ui=4.0, est=3.8793456032719837, details={'was_impossible': True, 'reason': 'Not enough neighbors.'}),\n",
       " Prediction(uid=88, iid=8, r_ui=5.0, est=3.6666666666666665, details={'actual_k': 3, 'was_impossible': False}),\n",
       " Prediction(uid=191, iid=5, r_ui=4.0, est=4.666666666666667, details={'actual_k': 3, 'was_impossible': False}),\n",
       " Prediction(uid=206, iid=13, r_ui=4.0, est=4.326726896772236, details={'actual_k': 3, 'was_impossible': False}),\n",
       " Prediction(uid=37, iid=11, r_ui=3.0, est=4.655595189519702, details={'actual_k': 3, 'was_impossible': False}),\n",
       " Prediction(uid=24, iid=15, r_ui=2.0, est=3.0, details={'actual_k': 3, 'was_impossible': False}),\n",
       " Prediction(uid=112, iid=4, r_ui=2.0, est=4.0, details={'actual_k': 3, 'was_impossible': False}),\n",
       " Prediction(uid=250, iid=3, r_ui=4.0, est=3.3333333333333335, details={'actual_k': 3, 'was_impossible': False}),\n",
       " Prediction(uid=138, iid=11, r_ui=3.0, est=3.3303708531285103, details={'actual_k': 3, 'was_impossible': False}),\n",
       " Prediction(uid=13, iid=15, r_ui=1.0, est=2.0299117513076324, details={'actual_k': 3, 'was_impossible': False}),\n",
       " Prediction(uid=26, iid=10, r_ui=4.0, est=3.347231855047504, details={'actual_k': 3, 'was_impossible': False}),\n",
       " Prediction(uid=38, iid=3, r_ui=5.0, est=4.333333333333333, details={'actual_k': 3, 'was_impossible': False}),\n",
       " Prediction(uid=39, iid=4, r_ui=4.0, est=4.007067934975008, details={'actual_k': 3, 'was_impossible': False}),\n",
       " Prediction(uid=219, iid=8, r_ui=4.0, est=4.0, details={'actual_k': 3, 'was_impossible': False}),\n",
       " Prediction(uid=91, iid=3, r_ui=4.0, est=5, details={'actual_k': 3, 'was_impossible': False}),\n",
       " Prediction(uid=191, iid=7, r_ui=4.0, est=4.0, details={'actual_k': 3, 'was_impossible': False}),\n",
       " Prediction(uid=72, iid=3, r_ui=4.0, est=4.683253172660388, details={'actual_k': 3, 'was_impossible': False}),\n",
       " Prediction(uid=65, iid=16, r_ui=3.0, est=3.6666666666666665, details={'actual_k': 3, 'was_impossible': False}),\n",
       " Prediction(uid=166, iid=8, r_ui=2.0, est=4.67826883996741, details={'actual_k': 3, 'was_impossible': False}),\n",
       " Prediction(uid=166, iid=1, r_ui=5.0, est=4.333333333333333, details={'actual_k': 3, 'was_impossible': False}),\n",
       " Prediction(uid=40, iid=12, r_ui=4.0, est=4.337386354243376, details={'actual_k': 3, 'was_impossible': False}),\n",
       " Prediction(uid=58, iid=8, r_ui=3.0, est=4.333333333333333, details={'actual_k': 3, 'was_impossible': False}),\n",
       " Prediction(uid=241, iid=7, r_ui=2.0, est=3.3333333333333335, details={'actual_k': 3, 'was_impossible': False}),\n",
       " Prediction(uid=69, iid=1, r_ui=5.0, est=3.3333333333333335, details={'actual_k': 3, 'was_impossible': False}),\n",
       " Prediction(uid=76, iid=4, r_ui=4.0, est=4.666666666666667, details={'actual_k': 3, 'was_impossible': False}),\n",
       " Prediction(uid=238, iid=4, r_ui=3.0, est=2.6716845801883005, details={'actual_k': 3, 'was_impossible': False}),\n",
       " Prediction(uid=98, iid=3, r_ui=5.0, est=3.6666666666666665, details={'actual_k': 3, 'was_impossible': False}),\n",
       " Prediction(uid=72, iid=7, r_ui=3.0, est=5, details={'actual_k': 3, 'was_impossible': False}),\n",
       " Prediction(uid=17, iid=8, r_ui=5.0, est=4.0, details={'actual_k': 3, 'was_impossible': False}),\n",
       " Prediction(uid=255, iid=6, r_ui=1.0, est=4.654689648486981, details={'actual_k': 3, 'was_impossible': False}),\n",
       " Prediction(uid=244, iid=20, r_ui=3.0, est=2.919176535255371, details={'actual_k': 3, 'was_impossible': False}),\n",
       " Prediction(uid=33, iid=6, r_ui=5.0, est=4.0, details={'actual_k': 3, 'was_impossible': False}),\n",
       " Prediction(uid=139, iid=5, r_ui=5.0, est=4.666666666666667, details={'actual_k': 3, 'was_impossible': False}),\n",
       " Prediction(uid=265, iid=12, r_ui=5.0, est=5, details={'actual_k': 3, 'was_impossible': False}),\n",
       " Prediction(uid=209, iid=1, r_ui=5.0, est=4.333333333333333, details={'actual_k': 3, 'was_impossible': False}),\n",
       " Prediction(uid=205, iid=5, r_ui=4.0, est=5, details={'actual_k': 3, 'was_impossible': False}),\n",
       " Prediction(uid=262, iid=3, r_ui=5.0, est=4.333333333333333, details={'actual_k': 3, 'was_impossible': False}),\n",
       " Prediction(uid=143, iid=16, r_ui=3.0, est=4.666666666666667, details={'actual_k': 3, 'was_impossible': False}),\n",
       " Prediction(uid=26, iid=14, r_ui=5.0, est=3.4421971588056928, details={'actual_k': 3, 'was_impossible': False}),\n",
       " Prediction(uid=94, iid=4, r_ui=4.0, est=4.666666666666667, details={'actual_k': 3, 'was_impossible': False}),\n",
       " Prediction(uid=202, iid=5, r_ui=5.0, est=4.666666666666667, details={'actual_k': 3, 'was_impossible': False}),\n",
       " Prediction(uid=143, iid=14, r_ui=4.0, est=4.333333333333333, details={'actual_k': 3, 'was_impossible': False}),\n",
       " Prediction(uid=265, iid=5, r_ui=4.0, est=3.3333333333333335, details={'actual_k': 3, 'was_impossible': False}),\n",
       " Prediction(uid=7, iid=18, r_ui=3.0, est=4.066339130226002, details={'actual_k': 3, 'was_impossible': False}),\n",
       " Prediction(uid=171, iid=5, r_ui=5.0, est=3.8793456032719837, details={'was_impossible': True, 'reason': 'Not enough neighbors.'}),\n",
       " Prediction(uid=239, iid=14, r_ui=3.0, est=3.664971447295025, details={'actual_k': 3, 'was_impossible': False}),\n",
       " Prediction(uid=273, iid=5, r_ui=5.0, est=3.3333333333333335, details={'actual_k': 3, 'was_impossible': False}),\n",
       " Prediction(uid=131, iid=5, r_ui=5.0, est=3.3333333333333335, details={'actual_k': 3, 'was_impossible': False}),\n",
       " Prediction(uid=194, iid=7, r_ui=5.0, est=3.6666666666666665, details={'actual_k': 3, 'was_impossible': False}),\n",
       " Prediction(uid=27, iid=4, r_ui=4.0, est=4.355051025721682, details={'actual_k': 3, 'was_impossible': False}),\n",
       " Prediction(uid=77, iid=15, r_ui=1.0, est=4.333333333333333, details={'actual_k': 3, 'was_impossible': False}),\n",
       " Prediction(uid=174, iid=19, r_ui=3.0, est=4.559547991484688, details={'actual_k': 3, 'was_impossible': False}),\n",
       " Prediction(uid=106, iid=7, r_ui=5.0, est=3.6666666666666665, details={'actual_k': 3, 'was_impossible': False}),\n",
       " Prediction(uid=52, iid=8, r_ui=5.0, est=4.666666666666667, details={'actual_k': 3, 'was_impossible': False}),\n",
       " Prediction(uid=170, iid=2, r_ui=3.0, est=4.666666666666667, details={'actual_k': 3, 'was_impossible': False}),\n",
       " Prediction(uid=166, iid=7, r_ui=5.0, est=4.356537679934821, details={'actual_k': 3, 'was_impossible': False}),\n",
       " Prediction(uid=33, iid=7, r_ui=5.0, est=3.3333333333333335, details={'actual_k': 3, 'was_impossible': False}),\n",
       " Prediction(uid=161, iid=12, r_ui=4.0, est=4.290191046058443, details={'actual_k': 3, 'was_impossible': False}),\n",
       " Prediction(uid=79, iid=7, r_ui=5.0, est=4.666666666666667, details={'actual_k': 3, 'was_impossible': False}),\n",
       " Prediction(uid=209, iid=15, r_ui=2.0, est=2.3410581296423, details={'actual_k': 3, 'was_impossible': False}),\n",
       " Prediction(uid=214, iid=3, r_ui=5.0, est=3.8793456032719837, details={'was_impossible': True, 'reason': 'Not enough neighbors.'}),\n",
       " Prediction(uid=86, iid=19, r_ui=5.0, est=4.599959822563504, details={'actual_k': 3, 'was_impossible': False}),\n",
       " Prediction(uid=22, iid=2, r_ui=5.0, est=4.666666666666667, details={'actual_k': 3, 'was_impossible': False}),\n",
       " Prediction(uid=159, iid=5, r_ui=4.0, est=4.341081377402109, details={'actual_k': 3, 'was_impossible': False}),\n",
       " Prediction(uid=222, iid=3, r_ui=5.0, est=3.8793456032719837, details={'was_impossible': True, 'reason': 'User and/or item is unkown.'}),\n",
       " Prediction(uid=141, iid=11, r_ui=4.0, est=3.3333333333333335, details={'actual_k': 3, 'was_impossible': False}),\n",
       " Prediction(uid=38, iid=7, r_ui=5.0, est=4.0, details={'actual_k': 3, 'was_impossible': False}),\n",
       " Prediction(uid=209, iid=7, r_ui=3.0, est=2.005793597231725, details={'actual_k': 3, 'was_impossible': False}),\n",
       " Prediction(uid=50, iid=12, r_ui=4.0, est=5, details={'actual_k': 3, 'was_impossible': False}),\n",
       " Prediction(uid=292, iid=17, r_ui=4.0, est=4.603167148660265, details={'actual_k': 3, 'was_impossible': False}),\n",
       " Prediction(uid=145, iid=16, r_ui=4.0, est=3.6666666666666665, details={'actual_k': 3, 'was_impossible': False}),\n",
       " Prediction(uid=69, iid=5, r_ui=5.0, est=4.0, details={'actual_k': 3, 'was_impossible': False}),\n",
       " Prediction(uid=289, iid=8, r_ui=3.0, est=4.666666666666667, details={'actual_k': 3, 'was_impossible': False}),\n",
       " Prediction(uid=83, iid=12, r_ui=5.0, est=5, details={'actual_k': 3, 'was_impossible': False}),\n",
       " Prediction(uid=38, iid=17, r_ui=3.0, est=4.362369337979094, details={'actual_k': 3, 'was_impossible': False}),\n",
       " Prediction(uid=244, iid=1, r_ui=3.0, est=4.666666666666667, details={'actual_k': 3, 'was_impossible': False}),\n",
       " Prediction(uid=47, iid=19, r_ui=4.0, est=3.3814068789661196, details={'actual_k': 3, 'was_impossible': False}),\n",
       " Prediction(uid=271, iid=18, r_ui=3.0, est=3.1347126477300495, details={'actual_k': 3, 'was_impossible': False}),\n",
       " Prediction(uid=159, iid=1, r_ui=4.0, est=4.252716440818271, details={'actual_k': 3, 'was_impossible': False}),\n",
       " Prediction(uid=44, iid=3, r_ui=5.0, est=4.333333333333333, details={'actual_k': 3, 'was_impossible': False}),\n",
       " Prediction(uid=291, iid=10, r_ui=2.0, est=3.92804414752516, details={'actual_k': 3, 'was_impossible': False}),\n",
       " Prediction(uid=67, iid=16, r_ui=3.0, est=4.0, details={'actual_k': 3, 'was_impossible': False}),\n",
       " Prediction(uid=26, iid=5, r_ui=2.0, est=4.333333333333333, details={'actual_k': 3, 'was_impossible': False}),\n",
       " Prediction(uid=14, iid=3, r_ui=4.0, est=4.0, details={'actual_k': 3, 'was_impossible': False}),\n",
       " Prediction(uid=228, iid=5, r_ui=5.0, est=3.0, details={'actual_k': 3, 'was_impossible': False}),\n",
       " Prediction(uid=39, iid=13, r_ui=4.0, est=3.3334424377334093, details={'actual_k': 3, 'was_impossible': False}),\n",
       " Prediction(uid=231, iid=8, r_ui=4.0, est=3.6666666666666665, details={'actual_k': 3, 'was_impossible': False}),\n",
       " Prediction(uid=11, iid=5, r_ui=5.0, est=3.3333333333333335, details={'actual_k': 3, 'was_impossible': False}),\n",
       " Prediction(uid=187, iid=15, r_ui=1.0, est=3.6666666666666665, details={'actual_k': 3, 'was_impossible': False}),\n",
       " Prediction(uid=19, iid=11, r_ui=5.0, est=4.0, details={'actual_k': 3, 'was_impossible': False}),\n",
       " Prediction(uid=81, iid=12, r_ui=5.0, est=4.333333333333333, details={'actual_k': 3, 'was_impossible': False}),\n",
       " Prediction(uid=147, iid=7, r_ui=4.0, est=4.0, details={'actual_k': 3, 'was_impossible': False}),\n",
       " Prediction(uid=207, iid=15, r_ui=5.0, est=3.8793456032719837, details={'was_impossible': True, 'reason': 'Not enough neighbors.'}),\n",
       " Prediction(uid=287, iid=19, r_ui=3.0, est=3.8776150852453455, details={'actual_k': 3, 'was_impossible': False}),\n",
       " Prediction(uid=5, iid=14, r_ui=5.0, est=4.333333333333333, details={'actual_k': 3, 'was_impossible': False}),\n",
       " Prediction(uid=240, iid=20, r_ui=4.0, est=2.649796812759833, details={'actual_k': 3, 'was_impossible': False}),\n",
       " Prediction(uid=86, iid=12, r_ui=3.0, est=2.5595341287340245, details={'actual_k': 3, 'was_impossible': False}),\n",
       " Prediction(uid=208, iid=1, r_ui=5.0, est=3.6666666666666665, details={'actual_k': 3, 'was_impossible': False}),\n",
       " Prediction(uid=35, iid=16, r_ui=5.0, est=3.3333333333333335, details={'actual_k': 3, 'was_impossible': False}),\n",
       " Prediction(uid=68, iid=8, r_ui=4.0, est=4.0, details={'actual_k': 3, 'was_impossible': False}),\n",
       " Prediction(uid=6, iid=8, r_ui=5.0, est=4.333333333333333, details={'actual_k': 3, 'was_impossible': False}),\n",
       " Prediction(uid=106, iid=8, r_ui=5.0, est=4.666666666666667, details={'actual_k': 3, 'was_impossible': False}),\n",
       " Prediction(uid=63, iid=14, r_ui=5.0, est=3.0, details={'actual_k': 3, 'was_impossible': False}),\n",
       " Prediction(uid=227, iid=8, r_ui=4.0, est=4.0, details={'actual_k': 3, 'was_impossible': False}),\n",
       " Prediction(uid=213, iid=18, r_ui=3.0, est=4.0406514122141655, details={'actual_k': 3, 'was_impossible': False}),\n",
       " Prediction(uid=41, iid=9, r_ui=3.0, est=4.690492715394816, details={'actual_k': 3, 'was_impossible': False}),\n",
       " Prediction(uid=93, iid=7, r_ui=4.0, est=4.666666666666667, details={'actual_k': 3, 'was_impossible': False}),\n",
       " Prediction(uid=47, iid=8, r_ui=4.0, est=4.333333333333333, details={'actual_k': 3, 'was_impossible': False}),\n",
       " Prediction(uid=47, iid=16, r_ui=3.0, est=4.666666666666667, details={'actual_k': 3, 'was_impossible': False}),\n",
       " Prediction(uid=187, iid=1, r_ui=4.0, est=4.0, details={'actual_k': 3, 'was_impossible': False}),\n",
       " Prediction(uid=189, iid=1, r_ui=3.0, est=4.333333333333333, details={'actual_k': 3, 'was_impossible': False}),\n",
       " Prediction(uid=38, iid=11, r_ui=5.0, est=4.0, details={'actual_k': 3, 'was_impossible': False}),\n",
       " Prediction(uid=69, iid=3, r_ui=5.0, est=4.333333333333333, details={'actual_k': 3, 'was_impossible': False}),\n",
       " Prediction(uid=1, iid=7, r_ui=4.0, est=3.3489152603740187, details={'actual_k': 3, 'was_impossible': False}),\n",
       " Prediction(uid=58, iid=11, r_ui=4.0, est=3.3333333333333335, details={'actual_k': 3, 'was_impossible': False}),\n",
       " Prediction(uid=237, iid=11, r_ui=3.0, est=4.0, details={'actual_k': 3, 'was_impossible': False}),\n",
       " Prediction(uid=16, iid=14, r_ui=4.0, est=3.0, details={'actual_k': 3, 'was_impossible': False}),\n",
       " Prediction(uid=40, iid=7, r_ui=5.0, est=4.666666666666667, details={'actual_k': 3, 'was_impossible': False}),\n",
       " Prediction(uid=234, iid=20, r_ui=3.0, est=3.662609717734336, details={'actual_k': 3, 'was_impossible': False}),\n",
       " Prediction(uid=253, iid=2, r_ui=5.0, est=4.0, details={'actual_k': 3, 'was_impossible': False}),\n",
       " Prediction(uid=161, iid=4, r_ui=3.0, est=4.296539708388793, details={'actual_k': 3, 'was_impossible': False})]"
      ]
     },
     "execution_count": 11,
     "metadata": {},
     "output_type": "execute_result"
    }
   ],
   "source": [
    "# for each user-item combination in the test set we get predictions\n",
    "predictions_knn\n",
    "\n",
    "#We can also predict for a particular user-item combination, if we know the actual rating\n",
    "#pred = knn.predict(152, 10, r_ui=3, verbose=True)"
   ]
  },
  {
   "cell_type": "markdown",
   "metadata": {},
   "source": [
    "##### Option 2: Cross-validation\n",
    "\n",
    "Run a cross validation procedure for a given algorithm, reporting accuracy measures and computation times.\n",
    "\n",
    "You have several options in surprise library: https://surprise.readthedocs.io/en/stable/model_selection.html"
   ]
  },
  {
   "cell_type": "code",
   "execution_count": 12,
   "metadata": {},
   "outputs": [
    {
     "name": "stdout",
     "output_type": "stream",
     "text": [
      "Computing the pearson similarity matrix...\n",
      "Done computing similarity matrix.\n",
      "Computing the pearson similarity matrix...\n",
      "Done computing similarity matrix.\n",
      "Computing the pearson similarity matrix...\n",
      "Done computing similarity matrix.\n",
      "Computing the pearson similarity matrix...\n",
      "Done computing similarity matrix.\n",
      "Computing the pearson similarity matrix...\n",
      "Done computing similarity matrix.\n",
      "Evaluating RMSE, MAE of algorithm KNNBasic on 5 split(s).\n",
      "\n",
      "                  Fold 1  Fold 2  Fold 3  Fold 4  Fold 5  Mean    Std     \n",
      "RMSE (testset)    1.1833  1.1221  1.1378  1.1725  1.1908  1.1613  0.0267  \n",
      "MAE (testset)     0.9454  0.8659  0.9006  0.9258  0.9317  0.9139  0.0280  \n",
      "Fit time          0.20    0.21    0.24    0.19    0.22    0.21    0.02    \n",
      "Test time         0.11    0.09    0.16    0.22    0.13    0.14    0.04    \n"
     ]
    },
    {
     "data": {
      "text/plain": [
       "{'test_rmse': array([1.18331557, 1.1221027 , 1.1377998 , 1.17249608, 1.19081863]),\n",
       " 'test_mae': array([0.94535196, 0.86585543, 0.90059459, 0.92584096, 0.93169156]),\n",
       " 'fit_time': (0.20246100425720215,\n",
       "  0.20719599723815918,\n",
       "  0.23529267311096191,\n",
       "  0.18636155128479004,\n",
       "  0.21964478492736816),\n",
       " 'test_time': (0.1102447509765625,\n",
       "  0.0942697525024414,\n",
       "  0.16352128982543945,\n",
       "  0.21567869186401367,\n",
       "  0.1340794563293457)}"
      ]
     },
     "execution_count": 12,
     "metadata": {},
     "output_type": "execute_result"
    }
   ],
   "source": [
    "cross_validate(knn, data, measures=['RMSE', 'MAE'], cv=5, verbose=True) ##rerun the training part with different parameters"
   ]
  },
  {
   "cell_type": "markdown",
   "metadata": {},
   "source": [
    "##### Option 3:  GridSearchCV\n",
    "The GridSearchCV class computes accuracy metrics for an algorithm on various combinations of parameters, over a cross-validation procedure. This is useful for finding the best set of parameters for a prediction algorithm. It is analogous to GridSearchCV from scikit-learn."
   ]
  },
  {
   "cell_type": "code",
   "execution_count": 13,
   "metadata": {},
   "outputs": [],
   "source": [
    "param_grid = {'k': [5, 10, 20],\n",
    "              'sim_options': {'name': ['pearson', 'cosine'],\n",
    "                              'min_support': [1, 5],   #the minimum number of common items needed between users to consider them for similarity. For the item-based approach, this corresponds to the minimum number of common users for two items.\n",
    "                              'user_based': [True]}\n",
    "              }\n"
   ]
  },
  {
   "cell_type": "code",
   "execution_count": 14,
   "metadata": {},
   "outputs": [],
   "source": [
    "gs = GridSearchCV(KNNBasic, param_grid, measures=['rmse', 'mae'], cv=5) \n"
   ]
  },
  {
   "cell_type": "code",
   "execution_count": 15,
   "metadata": {},
   "outputs": [
    {
     "name": "stdout",
     "output_type": "stream",
     "text": [
      "Computing the pearson similarity matrix...\n",
      "Done computing similarity matrix.\n",
      "Computing the pearson similarity matrix...\n",
      "Done computing similarity matrix.\n",
      "Computing the pearson similarity matrix...\n",
      "Done computing similarity matrix.\n",
      "Computing the pearson similarity matrix...\n",
      "Done computing similarity matrix.\n",
      "Computing the pearson similarity matrix...\n",
      "Done computing similarity matrix.\n",
      "Computing the pearson similarity matrix...\n",
      "Done computing similarity matrix.\n",
      "Computing the pearson similarity matrix...\n",
      "Done computing similarity matrix.\n",
      "Computing the pearson similarity matrix...\n",
      "Done computing similarity matrix.\n",
      "Computing the pearson similarity matrix...\n",
      "Done computing similarity matrix.\n",
      "Computing the pearson similarity matrix...\n",
      "Done computing similarity matrix.\n",
      "Computing the cosine similarity matrix...\n",
      "Done computing similarity matrix.\n",
      "Computing the cosine similarity matrix...\n",
      "Done computing similarity matrix.\n",
      "Computing the cosine similarity matrix...\n",
      "Done computing similarity matrix.\n",
      "Computing the cosine similarity matrix...\n",
      "Done computing similarity matrix.\n",
      "Computing the cosine similarity matrix...\n",
      "Done computing similarity matrix.\n",
      "Computing the cosine similarity matrix...\n",
      "Done computing similarity matrix.\n",
      "Computing the cosine similarity matrix...\n",
      "Done computing similarity matrix.\n",
      "Computing the cosine similarity matrix...\n",
      "Done computing similarity matrix.\n",
      "Computing the cosine similarity matrix...\n",
      "Done computing similarity matrix.\n",
      "Computing the cosine similarity matrix...\n",
      "Done computing similarity matrix.\n",
      "Computing the pearson similarity matrix...\n",
      "Done computing similarity matrix.\n",
      "Computing the pearson similarity matrix...\n",
      "Done computing similarity matrix.\n",
      "Computing the pearson similarity matrix...\n",
      "Done computing similarity matrix.\n",
      "Computing the pearson similarity matrix...\n",
      "Done computing similarity matrix.\n",
      "Computing the pearson similarity matrix...\n",
      "Done computing similarity matrix.\n",
      "Computing the pearson similarity matrix...\n",
      "Done computing similarity matrix.\n",
      "Computing the pearson similarity matrix...\n",
      "Done computing similarity matrix.\n",
      "Computing the pearson similarity matrix...\n",
      "Done computing similarity matrix.\n",
      "Computing the pearson similarity matrix...\n",
      "Done computing similarity matrix.\n",
      "Computing the pearson similarity matrix...\n",
      "Done computing similarity matrix.\n",
      "Computing the cosine similarity matrix...\n",
      "Done computing similarity matrix.\n",
      "Computing the cosine similarity matrix...\n",
      "Done computing similarity matrix.\n",
      "Computing the cosine similarity matrix...\n",
      "Done computing similarity matrix.\n",
      "Computing the cosine similarity matrix...\n",
      "Done computing similarity matrix.\n",
      "Computing the cosine similarity matrix...\n",
      "Done computing similarity matrix.\n",
      "Computing the cosine similarity matrix...\n",
      "Done computing similarity matrix.\n",
      "Computing the cosine similarity matrix...\n",
      "Done computing similarity matrix.\n",
      "Computing the cosine similarity matrix...\n",
      "Done computing similarity matrix.\n",
      "Computing the cosine similarity matrix...\n",
      "Done computing similarity matrix.\n",
      "Computing the cosine similarity matrix...\n",
      "Done computing similarity matrix.\n",
      "Computing the pearson similarity matrix...\n",
      "Done computing similarity matrix.\n",
      "Computing the pearson similarity matrix...\n",
      "Done computing similarity matrix.\n",
      "Computing the pearson similarity matrix...\n",
      "Done computing similarity matrix.\n",
      "Computing the pearson similarity matrix...\n",
      "Done computing similarity matrix.\n",
      "Computing the pearson similarity matrix...\n",
      "Done computing similarity matrix.\n",
      "Computing the pearson similarity matrix...\n",
      "Done computing similarity matrix.\n",
      "Computing the pearson similarity matrix...\n",
      "Done computing similarity matrix.\n",
      "Computing the pearson similarity matrix...\n",
      "Done computing similarity matrix.\n",
      "Computing the pearson similarity matrix...\n",
      "Done computing similarity matrix.\n",
      "Computing the pearson similarity matrix...\n",
      "Done computing similarity matrix.\n",
      "Computing the cosine similarity matrix...\n",
      "Done computing similarity matrix.\n",
      "Computing the cosine similarity matrix...\n",
      "Done computing similarity matrix.\n",
      "Computing the cosine similarity matrix...\n",
      "Done computing similarity matrix.\n",
      "Computing the cosine similarity matrix...\n",
      "Done computing similarity matrix.\n",
      "Computing the cosine similarity matrix...\n",
      "Done computing similarity matrix.\n",
      "Computing the cosine similarity matrix...\n",
      "Done computing similarity matrix.\n",
      "Computing the cosine similarity matrix...\n",
      "Done computing similarity matrix.\n",
      "Computing the cosine similarity matrix...\n",
      "Done computing similarity matrix.\n",
      "Computing the cosine similarity matrix...\n",
      "Done computing similarity matrix.\n",
      "Computing the cosine similarity matrix...\n",
      "Done computing similarity matrix.\n"
     ]
    }
   ],
   "source": [
    "gs.fit(data)"
   ]
  },
  {
   "cell_type": "code",
   "execution_count": 17,
   "metadata": {},
   "outputs": [
    {
     "name": "stdout",
     "output_type": "stream",
     "text": [
      "1.0300555052316596\n"
     ]
    }
   ],
   "source": [
    "# best RMSE score\n",
    "print(gs.best_score['rmse'])"
   ]
  },
  {
   "cell_type": "code",
   "execution_count": 18,
   "metadata": {},
   "outputs": [
    {
     "name": "stdout",
     "output_type": "stream",
     "text": [
      "{'k': 20, 'sim_options': {'name': 'cosine', 'min_support': 5, 'user_based': True}}\n"
     ]
    }
   ],
   "source": [
    "# combination of parameters that gave the best RMSE score\n",
    "print(gs.best_params['rmse'])"
   ]
  },
  {
   "cell_type": "code",
   "execution_count": 19,
   "metadata": {},
   "outputs": [
    {
     "name": "stdout",
     "output_type": "stream",
     "text": [
      "Computing the cosine similarity matrix...\n",
      "Done computing similarity matrix.\n"
     ]
    },
    {
     "data": {
      "text/plain": [
       "<surprise.prediction_algorithms.knns.KNNBasic at 0x25dea81df28>"
      ]
     },
     "execution_count": 19,
     "metadata": {},
     "output_type": "execute_result"
    }
   ],
   "source": [
    "# We can now use the algorithm that yields the best rmse:\n",
    "knn = gs.best_estimator['rmse']\n",
    "knn.fit(data.build_full_trainset())\n",
    "\n",
    "#You may use this instead of some parts of the following section, to make predictions for the unseen data (i.e. all the missing ratings)"
   ]
  },
  {
   "cell_type": "markdown",
   "metadata": {},
   "source": [
    "\n",
    "### Example -- Making predictions for unknown ratings\n",
    "\n",
    "\n",
    "#### UI prep\n",
    "For our demo, we will create a user dictionary and movie dictionary where for user dictionary key is username and value userId which is used in our original dataset. For movie dictionary key is movieId and value is movie name. "
   ]
  },
  {
   "cell_type": "code",
   "execution_count": 20,
   "metadata": {},
   "outputs": [],
   "source": [
    "user_df = pd.read_csv(\"user_name.csv\")\n"
   ]
  },
  {
   "cell_type": "code",
   "execution_count": 21,
   "metadata": {
    "scrolled": true
   },
   "outputs": [
    {
     "data": {
      "text/html": [
       "<div>\n",
       "<style scoped>\n",
       "    .dataframe tbody tr th:only-of-type {\n",
       "        vertical-align: middle;\n",
       "    }\n",
       "\n",
       "    .dataframe tbody tr th {\n",
       "        vertical-align: top;\n",
       "    }\n",
       "\n",
       "    .dataframe thead th {\n",
       "        text-align: right;\n",
       "    }\n",
       "</style>\n",
       "<table border=\"1\" class=\"dataframe\">\n",
       "  <thead>\n",
       "    <tr style=\"text-align: right;\">\n",
       "      <th></th>\n",
       "      <th>username</th>\n",
       "      <th>id</th>\n",
       "    </tr>\n",
       "  </thead>\n",
       "  <tbody>\n",
       "    <tr>\n",
       "      <td>0</td>\n",
       "      <td>SPRING-20-933</td>\n",
       "      <td>1</td>\n",
       "    </tr>\n",
       "    <tr>\n",
       "      <td>1</td>\n",
       "      <td>SPRING-20-287</td>\n",
       "      <td>2</td>\n",
       "    </tr>\n",
       "    <tr>\n",
       "      <td>2</td>\n",
       "      <td>SPRING-20-013</td>\n",
       "      <td>1</td>\n",
       "    </tr>\n",
       "    <tr>\n",
       "      <td>3</td>\n",
       "      <td>SPRING-20-157</td>\n",
       "      <td>2</td>\n",
       "    </tr>\n",
       "    <tr>\n",
       "      <td>4</td>\n",
       "      <td>SPRING-20-891</td>\n",
       "      <td>3</td>\n",
       "    </tr>\n",
       "  </tbody>\n",
       "</table>\n",
       "</div>"
      ],
      "text/plain": [
       "        username  id\n",
       "0  SPRING-20-933   1\n",
       "1  SPRING-20-287   2\n",
       "2  SPRING-20-013   1\n",
       "3  SPRING-20-157   2\n",
       "4  SPRING-20-891   3"
      ]
     },
     "execution_count": 21,
     "metadata": {},
     "output_type": "execute_result"
    }
   ],
   "source": [
    "user_df.head(5)"
   ]
  },
  {
   "cell_type": "code",
   "execution_count": 22,
   "metadata": {},
   "outputs": [],
   "source": [
    "user_dict = {}\n",
    "for i in range(len(user_df)):\n",
    "    user_dict[user_df.iloc[i].username] = user_df.iloc[i].id"
   ]
  },
  {
   "cell_type": "code",
   "execution_count": 23,
   "metadata": {},
   "outputs": [],
   "source": [
    "movie_df = pd.read_csv(\"movie_name.csv\")"
   ]
  },
  {
   "cell_type": "code",
   "execution_count": 24,
   "metadata": {},
   "outputs": [
    {
     "data": {
      "text/html": [
       "<div>\n",
       "<style scoped>\n",
       "    .dataframe tbody tr th:only-of-type {\n",
       "        vertical-align: middle;\n",
       "    }\n",
       "\n",
       "    .dataframe tbody tr th {\n",
       "        vertical-align: top;\n",
       "    }\n",
       "\n",
       "    .dataframe thead th {\n",
       "        text-align: right;\n",
       "    }\n",
       "</style>\n",
       "<table border=\"1\" class=\"dataframe\">\n",
       "  <thead>\n",
       "    <tr style=\"text-align: right;\">\n",
       "      <th></th>\n",
       "      <th>movieName</th>\n",
       "      <th>id</th>\n",
       "    </tr>\n",
       "  </thead>\n",
       "  <tbody>\n",
       "    <tr>\n",
       "      <td>0</td>\n",
       "      <td>Rating [Rogue One/Star Wars]</td>\n",
       "      <td>1</td>\n",
       "    </tr>\n",
       "    <tr>\n",
       "      <td>1</td>\n",
       "      <td>Rating [Fight Club]</td>\n",
       "      <td>2</td>\n",
       "    </tr>\n",
       "    <tr>\n",
       "      <td>2</td>\n",
       "      <td>Rating [The Lord of the Rings]</td>\n",
       "      <td>3</td>\n",
       "    </tr>\n",
       "    <tr>\n",
       "      <td>3</td>\n",
       "      <td>Rating [Trolls]</td>\n",
       "      <td>4</td>\n",
       "    </tr>\n",
       "    <tr>\n",
       "      <td>4</td>\n",
       "      <td>Rating [Despicable Me]</td>\n",
       "      <td>5</td>\n",
       "    </tr>\n",
       "  </tbody>\n",
       "</table>\n",
       "</div>"
      ],
      "text/plain": [
       "                        movieName  id\n",
       "0    Rating [Rogue One/Star Wars]   1\n",
       "1             Rating [Fight Club]   2\n",
       "2  Rating [The Lord of the Rings]   3\n",
       "3                 Rating [Trolls]   4\n",
       "4          Rating [Despicable Me]   5"
      ]
     },
     "execution_count": 24,
     "metadata": {},
     "output_type": "execute_result"
    }
   ],
   "source": [
    "movie_df.head(5)"
   ]
  },
  {
   "cell_type": "code",
   "execution_count": 25,
   "metadata": {},
   "outputs": [],
   "source": [
    "movie_dict = {}\n",
    "for i in range(len(movie_df)):\n",
    "    movie_dict[movie_df.iloc[i].id] = movie_df.iloc[i].movieName"
   ]
  },
  {
   "cell_type": "markdown",
   "metadata": {},
   "source": [
    "#### Find user-item pairs with no ratings\n",
    "\n",
    "The build_anti_testset() function returns all the ratings that are not in the trainset, i.e. all the ratings 𝑟𝑢𝑖 where the user 𝑢 is known, the item 𝑖 is known, but the rating 𝑟𝑢𝑖 is not in the trainset. As 𝑟𝑢𝑖 is unknown, it is either replaced by the fill value or assumed to be equal to the mean of all ratings global_mean."
   ]
  },
  {
   "cell_type": "code",
   "execution_count": 26,
   "metadata": {},
   "outputs": [
    {
     "name": "stdout",
     "output_type": "stream",
     "text": [
      "Computing the msd similarity matrix...\n",
      "Done computing similarity matrix.\n"
     ]
    }
   ],
   "source": [
    "#for simplicity, we use the entire dataset, with the default algorithm to traing the model. \n",
    "#In reality, you should follow one of the techniques above to find the optimal parameters.\n",
    "\n",
    "# Retrieve the trainset.\n",
    "trainset = data.build_full_trainset()\n",
    "\n",
    "# Build an algorithm, and train it. Follow methodology provided previously\n",
    "algo = KNNBasic()\n",
    "algo.fit(trainset)\n",
    "\n",
    "# Find missing values and predict\n",
    "anti_test_set = trainset.build_anti_testset() \n",
    "predictions = knn.test(anti_test_set)"
   ]
  },
  {
   "cell_type": "markdown",
   "metadata": {},
   "source": [
    "The getMovieRecommendations function takes topN parameter which is how many movies you want to recommend to the users. It uses predictions which we generate from anti-test."
   ]
  },
  {
   "cell_type": "code",
   "execution_count": 27,
   "metadata": {},
   "outputs": [],
   "source": [
    "from collections import defaultdict\n",
    "\n",
    "def getMovieRecommendations(topN=3):\n",
    "    top_recs = defaultdict(list)\n",
    "    for uid, iid, true_r, est, _ in predictions: \n",
    "        top_recs[uid].append((iid, est))\n",
    "     \n",
    "    for uid, user_ratings in top_recs.items():\n",
    "        user_ratings.sort(key = lambda x: x[1], reverse = True)\n",
    "        top_recs[uid] = user_ratings[:topN]\n",
    "     \n",
    "    return top_recs "
   ]
  },
  {
   "cell_type": "code",
   "execution_count": 28,
   "metadata": {},
   "outputs": [],
   "source": [
    "recommendations = getMovieRecommendations(3)"
   ]
  },
  {
   "cell_type": "markdown",
   "metadata": {},
   "source": [
    "Fetch thee movie name from movie dict and clean it"
   ]
  },
  {
   "cell_type": "code",
   "execution_count": 29,
   "metadata": {},
   "outputs": [],
   "source": [
    "def getMovieName(movie_id):\n",
    "    if movie_id not in movie_dict:\n",
    "        return \"\"\n",
    "    m = movie_dict[movie_id].split('[')\n",
    "    temp = m[1].split(']')\n",
    "    return temp[0]"
   ]
  },
  {
   "cell_type": "markdown",
   "metadata": {},
   "source": [
    "The getMovieRecommendationsForUser fuction takes username, and recommendations which we get from getMovieRecommendations function. "
   ]
  },
  {
   "cell_type": "code",
   "execution_count": 30,
   "metadata": {},
   "outputs": [],
   "source": [
    "def getMovieRecommendationsForUser(userId, recommendations):\n",
    "    if userId not in user_dict:\n",
    "        print(\"User id is not present\")\n",
    "        return\n",
    "    u_id = user_dict[userId]\n",
    "    recommended_movies = recommendations[u_id]\n",
    "    movie_list = []\n",
    "    for movie in recommended_movies:\n",
    "        movie_list.append((getMovieName(movie[0]),movie[1]))\n",
    "    return movie_list    "
   ]
  },
  {
   "cell_type": "code",
   "execution_count": 32,
   "metadata": {},
   "outputs": [
    {
     "data": {
      "text/plain": [
       "[('Rogue One/Star Wars', 4.350296486127488),\n",
       " ('The hangover', 4.349583286452919),\n",
       " ('Pulp Fiction', 4.100834799392867)]"
      ]
     },
     "execution_count": 32,
     "metadata": {},
     "output_type": "execute_result"
    }
   ],
   "source": [
    "getMovieRecommendationsForUser('SPRING-20-663',recommendations)"
   ]
  },
  {
   "cell_type": "markdown",
   "metadata": {
    "colab_type": "text",
    "id": "TyxQxxLpm_Sh"
   },
   "source": [
    "### Tips\n",
    "\n",
    "1.Surprise dataset function just takes three columns,user-item and ratings so be careful.\n",
    "\n",
    "2.Building Antitest set gives you all the unknown user-item ratings,you may not require all of them.\n",
    "\n",
    "3.Explore more and have fun!\n"
   ]
  },
  {
   "cell_type": "code",
   "execution_count": null,
   "metadata": {},
   "outputs": [],
   "source": []
  }
 ],
 "metadata": {
  "colab": {
   "name": "256-DEMO.ipynb",
   "provenance": [],
   "version": "0.3.2"
  },
  "kernelspec": {
   "display_name": "Python 3",
   "language": "python",
   "name": "python3"
  },
  "language_info": {
   "codemirror_mode": {
    "name": "ipython",
    "version": 3
   },
   "file_extension": ".py",
   "mimetype": "text/x-python",
   "name": "python",
   "nbconvert_exporter": "python",
   "pygments_lexer": "ipython3",
   "version": "3.7.3"
  }
 },
 "nbformat": 4,
 "nbformat_minor": 1
}
